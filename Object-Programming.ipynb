{
 "cells": [
  {
   "cell_type": "code",
   "execution_count": null,
   "id": "940535c3",
   "metadata": {},
   "outputs": [],
   "source": [
    "#The four pillars of OOP (Object Oriented Programming)\n",
    "\n",
    "\"Abstraction - The full functionality is hidden from the end user\"\n",
    "\"Encapsulation - The abiliy to capture and consolidate the code for a certain object in one place\"\n",
    "\"Polymorphism - The ability for an object to take on many forms\"\n",
    "\"Inheritance - (Parent/Child relationships) (Super class/subclass relationships)\""
   ]
  },
  {
   "cell_type": "code",
   "execution_count": 3,
   "id": "731839e7",
   "metadata": {},
   "outputs": [],
   "source": [
    "#Classes\n",
    "#Class - A class is a template for an object aka a blueprint for an object.\n",
    "#Attributes - Classes can have attributes (for a person) ex. Height, Weight, Hair Color, Eye Color etc.\n",
    "#Methods - These are functions that are associated with an class/object\n",
    "\n",
    "class Grocery_Store: #class <Name_of_Class\n",
    "    def __init__(self, name, number_of_registers, square_footage, number_of_aisles): #Constructor\n",
    "        #Instance Attributes\n",
    "        self.name = name\n",
    "        self.number_of_registers = number_of_registers\n",
    "        self.square_footage = square_footage\n",
    "        self.number_of_aisles = number_0f_aisles\n",
    "        #Class Attributes - Class Attributes are established at the Class level\n",
    "        self.store_hours = \"24/7\"\n",
    "        #Methods\n",
    "    def hire_employee(self):\n",
    "        number_of_employees_hired = int(input(\"How many employees did you hire?\"))\n",
    "        self.number_of_employees += number_of_employees_hired\n",
    "    def fire_employees(self):\n",
    "        number_of_employees_fired = int(input(\"How many employees did you fire?\"))\n",
    "        self.number_of_employees -= number_of_employees_fired"
   ]
  },
  {
   "cell_type": "code",
   "execution_count": 4,
   "id": "37677042",
   "metadata": {},
   "outputs": [
    {
     "ename": "TypeError",
     "evalue": "__init__() takes 5 positional arguments but 6 were given",
     "output_type": "error",
     "traceback": [
      "\u001b[1;31m---------------------------------------------------------------------------\u001b[0m",
      "\u001b[1;31mTypeError\u001b[0m                                 Traceback (most recent call last)",
      "\u001b[1;32m~\\AppData\\Local\\Temp\\ipykernel_15176\\1620246319.py\u001b[0m in \u001b[0;36m<module>\u001b[1;34m\u001b[0m\n\u001b[0;32m      2\u001b[0m \u001b[1;31m# <name_of_object> = <Name_of_Class>(attr_1, attr_2, attr_3, etc.)\u001b[0m\u001b[1;33m\u001b[0m\u001b[1;33m\u001b[0m\u001b[0m\n\u001b[0;32m      3\u001b[0m \u001b[0mwin_co\u001b[0m \u001b[1;33m=\u001b[0m \u001b[1;33m(\u001b[0m\u001b[1;34m\"Winco\"\u001b[0m\u001b[1;33m,\u001b[0m \u001b[1;36m6\u001b[0m\u001b[1;33m,\u001b[0m \u001b[1;36m1200\u001b[0m\u001b[1;33m,\u001b[0m \u001b[1;36m12\u001b[0m\u001b[1;33m,\u001b[0m \u001b[1;36m20\u001b[0m\u001b[1;33m)\u001b[0m\u001b[1;33m\u001b[0m\u001b[1;33m\u001b[0m\u001b[0m\n\u001b[1;32m----> 4\u001b[1;33m \u001b[0mwin_co_2\u001b[0m \u001b[1;33m=\u001b[0m \u001b[0mGrocery_Store\u001b[0m\u001b[1;33m(\u001b[0m\u001b[1;36m24\u001b[0m\u001b[1;33m,\u001b[0m \u001b[1;36m7\u001b[0m\u001b[1;33m,\u001b[0m \u001b[1;34m\"Twelve Hundred\"\u001b[0m\u001b[1;33m,\u001b[0m \u001b[1;34m\"Twelve\"\u001b[0m\u001b[1;33m,\u001b[0m \u001b[1;34m\"Twenty\"\u001b[0m\u001b[1;33m)\u001b[0m\u001b[1;33m\u001b[0m\u001b[1;33m\u001b[0m\u001b[0m\n\u001b[0m",
      "\u001b[1;31mTypeError\u001b[0m: __init__() takes 5 positional arguments but 6 were given"
     ]
    }
   ],
   "source": [
    "#Instatiate on object/Instatiate/Create an Object from a Class\n",
    "# <name_of_object> = <Name_of_Class>(attr_1, attr_2, attr_3, etc.)\n",
    "win_co = (\"Winco\", 6, 1200, 12, 20)\n",
    "win_co_2 = Grocery_Store(24, 7, \"Twelve Hundred\", \"Twelve\", \"Twenty\")"
   ]
  },
  {
   "cell_type": "code",
   "execution_count": 5,
   "id": "efee2d94",
   "metadata": {},
   "outputs": [
    {
     "ename": "AttributeError",
     "evalue": "'tuple' object has no attribute 'number_of_employees'",
     "output_type": "error",
     "traceback": [
      "\u001b[1;31m---------------------------------------------------------------------------\u001b[0m",
      "\u001b[1;31mAttributeError\u001b[0m                            Traceback (most recent call last)",
      "\u001b[1;32m~\\AppData\\Local\\Temp\\ipykernel_15176\\1062224508.py\u001b[0m in \u001b[0;36m<module>\u001b[1;34m\u001b[0m\n\u001b[1;32m----> 1\u001b[1;33m \u001b[0mwin_co\u001b[0m\u001b[1;33m.\u001b[0m\u001b[0mnumber_of_employees\u001b[0m\u001b[1;33m\u001b[0m\u001b[1;33m\u001b[0m\u001b[0m\n\u001b[0m",
      "\u001b[1;31mAttributeError\u001b[0m: 'tuple' object has no attribute 'number_of_employees'"
     ]
    }
   ],
   "source": [
    "win_co.number_of_employees"
   ]
  },
  {
   "cell_type": "code",
   "execution_count": 1,
   "id": "db27c619",
   "metadata": {},
   "outputs": [],
   "source": [
    "def my_function(x,y,z):\n",
    "    print(x+y+z)"
   ]
  },
  {
   "cell_type": "code",
   "execution_count": 2,
   "id": "8010f180",
   "metadata": {},
   "outputs": [
    {
     "ename": "TypeError",
     "evalue": "my_function() missing 1 required positional argument: 'z'",
     "output_type": "error",
     "traceback": [
      "\u001b[1;31m---------------------------------------------------------------------------\u001b[0m",
      "\u001b[1;31mTypeError\u001b[0m                                 Traceback (most recent call last)",
      "\u001b[1;32m~\\AppData\\Local\\Temp\\ipykernel_15176\\1445195128.py\u001b[0m in \u001b[0;36m<module>\u001b[1;34m\u001b[0m\n\u001b[1;32m----> 1\u001b[1;33m \u001b[0mmy_function\u001b[0m\u001b[1;33m(\u001b[0m\u001b[1;36m50\u001b[0m\u001b[1;33m,\u001b[0m \u001b[1;36m55\u001b[0m\u001b[1;33m)\u001b[0m\u001b[1;33m\u001b[0m\u001b[1;33m\u001b[0m\u001b[0m\n\u001b[0m",
      "\u001b[1;31mTypeError\u001b[0m: my_function() missing 1 required positional argument: 'z'"
     ]
    }
   ],
   "source": [
    "my_function(50, 55)"
   ]
  },
  {
   "cell_type": "code",
   "execution_count": null,
   "id": "e98a8942",
   "metadata": {},
   "outputs": [],
   "source": []
  }
 ],
 "metadata": {
  "kernelspec": {
   "display_name": "Python 3 (ipykernel)",
   "language": "python",
   "name": "python3"
  },
  "language_info": {
   "codemirror_mode": {
    "name": "ipython",
    "version": 3
   },
   "file_extension": ".py",
   "mimetype": "text/x-python",
   "name": "python",
   "nbconvert_exporter": "python",
   "pygments_lexer": "ipython3",
   "version": "3.9.13"
  }
 },
 "nbformat": 4,
 "nbformat_minor": 5
}
