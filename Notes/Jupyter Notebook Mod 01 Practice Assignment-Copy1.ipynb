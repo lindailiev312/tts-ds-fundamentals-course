{
 "cells": [
  {
   "cell_type": "code",
   "execution_count": 1,
   "id": "660a3cc5",
   "metadata": {},
   "outputs": [
    {
     "name": "stdout",
     "output_type": "stream",
     "text": [
      "Input your First Name : linda\n",
      "Input your Last Name : iliev\n",
      "Hello  iliev linda\n"
     ]
    }
   ],
   "source": [
    "firstname = input(\"Input your First Name : \")\n",
    "lastname = input(\"Input your Last Name : \")\n",
    "print (\"Hello  \" + lastname + \" \" + firstname)"
   ]
  },
  {
   "cell_type": "code",
   "execution_count": 2,
   "id": "1d6389d4",
   "metadata": {},
   "outputs": [
    {
     "name": "stdout",
     "output_type": "stream",
     "text": [
      "Enter a value for n...5\n",
      "The computed value is : \n",
      "615\n"
     ]
    }
   ],
   "source": [
    "my_input = int(input(\"Enter a value for n...\"))\n",
    "temp_val = str(my_input)\n",
    "t_1=temp_val+temp_val\n",
    "t_2=temp_val+temp_val+temp_val\n",
    "my_result = my_input+int(t_1)+int(t_2)\n",
    "print(\"The computed value is : \")\n",
    "print(my_result)"
   ]
  },
  {
   "cell_type": "code",
   "execution_count": 12,
   "id": "a46ce608",
   "metadata": {},
   "outputs": [
    {
     "name": "stdout",
     "output_type": "stream",
     "text": [
      "What country are you from?USA\n",
      "I have heard that USA is a beautiful country!\n"
     ]
    }
   ],
   "source": [
    "USA = input(\"What country are you from?\")\n",
    "print (\"I have heard that USA is a beautiful country!\")"
   ]
  },
  {
   "cell_type": "code",
   "execution_count": 16,
   "id": "d129d061",
   "metadata": {},
   "outputs": [],
   "source": [
    "#What is the output of the following Python code\n",
    "\n",
    "x = 10\n",
    "y = 50\n",
    "if (x ** 2 > 100 and y < 100):\n",
    "    print(x, y)\n",
    "    \n",
    "#The output of the above is none. \n",
    "    "
   ]
  },
  {
   "cell_type": "code",
   "execution_count": 19,
   "id": "cad7b2fe",
   "metadata": {},
   "outputs": [
    {
     "name": "stdout",
     "output_type": "stream",
     "text": [
      "[10, 20, 30, 40]\n",
      "[10, 20, 30, 40]\n"
     ]
    }
   ],
   "source": [
    "a = [10, 20]\n",
    "b = a\n",
    "b += [30, 40]\n",
    "print(a)\n",
    "print(b)\n",
    "\n",
    "#Both a and b are pointing to the same values, so these values print out. "
   ]
  },
  {
   "cell_type": "code",
   "execution_count": 20,
   "id": "5b42c46d",
   "metadata": {},
   "outputs": [
    {
     "name": "stdout",
     "output_type": "stream",
     "text": [
      "2\n"
     ]
    }
   ],
   "source": [
    "print(2%6)\n",
    "\n",
    "# % operator is being used here. It is used to divide the operands and return the remainder."
   ]
  },
  {
   "cell_type": "code",
   "execution_count": 21,
   "id": "d95b0143",
   "metadata": {},
   "outputs": [
    {
     "name": "stdout",
     "output_type": "stream",
     "text": [
      "216\n"
     ]
    }
   ],
   "source": [
    "print(2 * 3 ** 3 * 4)\n",
    "\n",
    "#Two operators are used. They are the * operator and ** operator."
   ]
  },
  {
   "cell_type": "code",
   "execution_count": null,
   "id": "d18d2a6b",
   "metadata": {},
   "outputs": [],
   "source": [
    "#Text editor is where will you write your code, so you can enter, edit and delete characters to create Python applications."
   ]
  },
  {
   "cell_type": "code",
   "execution_count": null,
   "id": "c483bf4d",
   "metadata": {},
   "outputs": [],
   "source": [
    "#Python is a general-purpose and beginner-friendly programming language that runs on almost all system architectures and can be used for a wide range of applications in different fields, from data analytics, web development to machine learning."
   ]
  },
  {
   "cell_type": "code",
   "execution_count": null,
   "id": "749c7b72",
   "metadata": {},
   "outputs": [],
   "source": [
    "#The Jupyter Notebook is an open-source web application that allows you to create and share documents that contain live code, equations, visualizations, and narrative text.Spyder, IPython, and PYCharm are some alternatives to Jupyter Notebook. Jupyter notebook is a visual environment for Python. "
   ]
  }
 ],
 "metadata": {
  "kernelspec": {
   "display_name": "Python 3 (ipykernel)",
   "language": "python",
   "name": "python3"
  },
  "language_info": {
   "codemirror_mode": {
    "name": "ipython",
    "version": 3
   },
   "file_extension": ".py",
   "mimetype": "text/x-python",
   "name": "python",
   "nbconvert_exporter": "python",
   "pygments_lexer": "ipython3",
   "version": "3.9.13"
  }
 },
 "nbformat": 4,
 "nbformat_minor": 5
}
