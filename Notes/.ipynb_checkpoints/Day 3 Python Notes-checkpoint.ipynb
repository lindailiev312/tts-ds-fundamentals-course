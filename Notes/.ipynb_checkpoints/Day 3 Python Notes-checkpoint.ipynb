{
 "cells": [
  {
   "cell_type": "code",
   "execution_count": null,
   "id": "0c8892f4",
   "metadata": {},
   "outputs": [],
   "source": [
    "#Control Flow"
   ]
  },
  {
   "cell_type": "code",
   "execution_count": 11,
   "id": "047b337d",
   "metadata": {},
   "outputs": [
    {
     "name": "stdout",
     "output_type": "stream",
     "text": [
      "Var_1 and Var_2 are equal\n"
     ]
    }
   ],
   "source": [
    "var_1 = 45\n",
    "var_2 = 45\n",
    "#if statement only execute the underlying code if the statement is true\n",
    "if var_1 > var_2:\n",
    "    print(\"Var_1 is greater than Var_2\")\n",
    "elif var_2 > var_1:\n",
    "    print(\"Var_2 is greater than Var_1\")\n",
    "else:\n",
    "    print(\"Var_1 and Var_2 are equal\")"
   ]
  },
  {
   "cell_type": "code",
   "execution_count": 12,
   "id": "84b99dae",
   "metadata": {},
   "outputs": [],
   "source": [
    "x = var_1 > var_2"
   ]
  },
  {
   "cell_type": "code",
   "execution_count": 13,
   "id": "2a80b5ab",
   "metadata": {},
   "outputs": [
    {
     "data": {
      "text/plain": [
       "False"
      ]
     },
     "execution_count": 13,
     "metadata": {},
     "output_type": "execute_result"
    }
   ],
   "source": [
    "var_1 > var_2"
   ]
  },
  {
   "cell_type": "code",
   "execution_count": 14,
   "id": "10818d02",
   "metadata": {},
   "outputs": [
    {
     "data": {
      "text/plain": [
       "bool"
      ]
     },
     "execution_count": 14,
     "metadata": {},
     "output_type": "execute_result"
    }
   ],
   "source": [
    "type(x)"
   ]
  },
  {
   "cell_type": "code",
   "execution_count": 20,
   "id": "badfa170",
   "metadata": {},
   "outputs": [
    {
     "name": "stdout",
     "output_type": "stream",
     "text": [
      "2\n"
     ]
    }
   ],
   "source": [
    "#4 Built-in Python Data Structure\n",
    "#List\n",
    "index_ex = [0, 1, 2, 3]\n",
    "my_list = [\"x\", \"y\", \"z\"]\n",
    "int_list =[1,2,3,4,5]\n",
    "float_list = [1.1, 2.2, 2.3]\n",
    "mix_list = [\"x\", 1, True, 3.14]\n",
    "#indexing\n",
    "#index notation\n",
    "print(index_ex[-2])"
   ]
  },
  {
   "cell_type": "code",
   "execution_count": null,
   "id": "5febe20d",
   "metadata": {},
   "outputs": [],
   "source": [
    "#Tuple"
   ]
  },
  {
   "cell_type": "code",
   "execution_count": null,
   "id": "183dc7cc",
   "metadata": {},
   "outputs": [],
   "source": []
  }
 ],
 "metadata": {
  "kernelspec": {
   "display_name": "Python 3 (ipykernel)",
   "language": "python",
   "name": "python3"
  },
  "language_info": {
   "codemirror_mode": {
    "name": "ipython",
    "version": 3
   },
   "file_extension": ".py",
   "mimetype": "text/x-python",
   "name": "python",
   "nbconvert_exporter": "python",
   "pygments_lexer": "ipython3",
   "version": "3.9.13"
  }
 },
 "nbformat": 4,
 "nbformat_minor": 5
}
