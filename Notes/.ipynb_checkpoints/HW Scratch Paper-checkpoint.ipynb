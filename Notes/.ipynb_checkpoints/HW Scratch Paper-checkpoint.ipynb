{
 "cells": [
  {
   "cell_type": "code",
   "execution_count": 23,
   "id": "b164638f",
   "metadata": {},
   "outputs": [],
   "source": [
    "import math as math\n",
    "\n",
    "def solve_quadratic(a, b, c) :\n",
    "    dis - (b ** 2) - int(4 * a * c)\n",
    "    ans1 = (-b + (math.sqrt(d)))/(2 * a)\n",
    "    ans2 = (-b - (math.sqrt(d)))/(2 * a)\n",
    "    print (ans1, ans2)\n"
   ]
  },
  {
   "cell_type": "code",
   "execution_count": 25,
   "id": "c0f6dffc",
   "metadata": {},
   "outputs": [],
   "source": [
    "import math\n"
   ]
  },
  {
   "cell_type": "code",
   "execution_count": 31,
   "id": "e4eb9a7e",
   "metadata": {},
   "outputs": [
    {
     "ename": "SyntaxError",
     "evalue": "invalid syntax (914402679.py, line 2)",
     "output_type": "error",
     "traceback": [
      "\u001b[1;36m  File \u001b[1;32m\"C:\\Users\\13129\\AppData\\Local\\Temp\\ipykernel_24116\\914402679.py\"\u001b[1;36m, line \u001b[1;32m2\u001b[0m\n\u001b[1;33m    def equationroots (a, b, c)\u001b[0m\n\u001b[1;37m                               ^\u001b[0m\n\u001b[1;31mSyntaxError\u001b[0m\u001b[1;31m:\u001b[0m invalid syntax\n"
     ]
    }
   ],
   "source": [
    "import math as math\n",
    "def equationroots (a, b, c)\n",
    "dis = b * b -4 * a * c\n",
    "sqrt_val = math.sqrt (abs(dis))\n",
    "if dis > 0:\n",
    "    print((-b + (math.sqrt(d)))/(2 * a))\n",
    "    print((-b - (math.sqrt(d)))/(2 * a))\n",
    "elif dis == 0:\n",
    "    print(-b / 2 * a)\n",
    "else\n",
    "    print(-b / (2 * a)), \" + i\" , sqrt_val)\n",
    "    print(-b / (2 * a)), \" - i\" , sqrt_val)\n",
    "    \n",
    "a = 1\n",
    "b = -3\n",
    "c = 2\n",
    "\n",
    "if a == 0:\n",
    "    print(\"Input correct quadratic equation\")\n",
    "else:\n",
    "    equationroots(a, b, c)"
   ]
  },
  {
   "cell_type": "code",
   "execution_count": 1,
   "id": "359813f6",
   "metadata": {},
   "outputs": [
    {
     "name": "stdout",
     "output_type": "stream",
     "text": [
      "The solution are (-3+0j) and (-2+0j)\n"
     ]
    }
   ],
   "source": [
    "# Solve the quadratic equation ax**2 + bx + c = 0\n",
    "\n",
    "# import complex math module\n",
    "import cmath\n",
    "\n",
    "a = 1\n",
    "b = 5\n",
    "c = 6\n",
    "\n",
    "# calculate the discriminant\n",
    "d = (b**2) - (4*a*c)\n",
    "\n",
    "# find two solutions\n",
    "sol1 = (-b-cmath.sqrt(d))/(2*a)\n",
    "sol2 = (-b+cmath.sqrt(d))/(2*a)\n",
    "\n",
    "print('The solution are {0} and {1}'.format(sol1,sol2))"
   ]
  },
  {
   "cell_type": "code",
   "execution_count": 2,
   "id": "c53d7ceb",
   "metadata": {},
   "outputs": [
    {
     "name": "stdout",
     "output_type": "stream",
     "text": [
      "The solution are (1+0j) and (2+0j)\n"
     ]
    }
   ],
   "source": [
    "# Solve the quadratic equation ax**2 + bx + c = 0\n",
    "\n",
    "# import complex math module\n",
    "import cmath\n",
    "\n",
    "a = 1\n",
    "b = -3\n",
    "c = 2\n",
    "\n",
    "# calculate the discriminant\n",
    "d = (b**2) - (4*a*c)\n",
    "\n",
    "# find two solutions\n",
    "sol1 = (-b-cmath.sqrt(d))/(2*a)\n",
    "sol2 = (-b+cmath.sqrt(d))/(2*a)\n",
    "\n",
    "print('The solution are {0} and {1}'.format(sol1,sol2))"
   ]
  },
  {
   "cell_type": "code",
   "execution_count": 3,
   "id": "ed60c4ee",
   "metadata": {},
   "outputs": [
    {
     "name": "stdout",
     "output_type": "stream",
     "text": [
      "The roots are\n",
      "(-3.414213562373095+0j)\n",
      "(-0.5857864376269049+0j)\n"
     ]
    }
   ],
   "source": [
    "# import complex math module\n",
    "import cmath\n",
    "\n",
    "a = 1\n",
    "b = 4\n",
    "c = 2\n",
    "\n",
    "# calculating the discriminant\n",
    "dis = (b**2) - (4 * a*c)\n",
    "\n",
    "# find two results\n",
    "ans1 = (-b-cmath.sqrt(dis))/(2 * a)\n",
    "ans2 = (-b + cmath.sqrt(dis))/(2 * a)\n",
    "\n",
    "# printing the results\n",
    "print('The roots are')\n",
    "print(ans1)\n",
    "print(ans2)\n"
   ]
  },
  {
   "cell_type": "code",
   "execution_count": 4,
   "id": "bc6ad884",
   "metadata": {},
   "outputs": [
    {
     "name": "stdout",
     "output_type": "stream",
     "text": [
      "The roots are\n",
      "(1+0j)\n",
      "(2+0j)\n"
     ]
    }
   ],
   "source": [
    "# import complex math module\n",
    "import cmath\n",
    "\n",
    "a = 1\n",
    "b = -3\n",
    "c = 2\n",
    "\n",
    "# calculating the discriminant\n",
    "dis = (b**2) - (4 * a*c)\n",
    "\n",
    "# find two results\n",
    "ans1 = (-b-cmath.sqrt(dis))/(2 * a)\n",
    "ans2 = (-b + cmath.sqrt(dis))/(2 * a)\n",
    "\n",
    "# printing the results\n",
    "print('The roots are')\n",
    "print(ans1)\n",
    "print(ans2)\n"
   ]
  },
  {
   "cell_type": "code",
   "execution_count": 5,
   "id": "77190b60",
   "metadata": {},
   "outputs": [
    {
     "name": "stdout",
     "output_type": "stream",
     "text": [
      " real and different roots \n",
      "2.0\n",
      "-12.0\n"
     ]
    }
   ],
   "source": [
    "# Python program to find roots of quadratic equation\n",
    "import math\n",
    "\n",
    "\n",
    "# function for finding roots\n",
    "def equationroots( a, b, c):\n",
    "\n",
    "\t# calculating discriminant using formula\n",
    "\tdis = b * b - 4 * a * c\n",
    "\tsqrt_val = math.sqrt(abs(dis))\n",
    "\t\n",
    "\t# checking condition for discriminant\n",
    "\tif dis > 0:\n",
    "\t\tprint(\" real and different roots \")\n",
    "\t\tprint((-b + sqrt_val)/(2 * a))\n",
    "\t\tprint((-b - sqrt_val)/(2 * a))\n",
    "\t\n",
    "\telif dis == 0:\n",
    "\t\tprint(\" real and same roots\")\n",
    "\t\tprint(-b / (2 * a))\n",
    "\t\n",
    "\t# when discriminant is less than 0\n",
    "\telse:\n",
    "\t\tprint(\"Complex Roots\")\n",
    "\t\tprint(- b / (2 * a), \" + i\", sqrt_val)\n",
    "\t\tprint(- b / (2 * a), \" - i\", sqrt_val)\n",
    "\n",
    "# Driver Program\n",
    "a = 1\n",
    "b = 10\n",
    "c = -24\n",
    "\n",
    "# If a is 0, then incorrect equation\n",
    "if a == 0:\n",
    "\t\tprint(\"Input correct quadratic equation\")\n",
    "\n",
    "else:\n",
    "\tequationroots(a, b, c)\n"
   ]
  },
  {
   "cell_type": "code",
   "execution_count": 6,
   "id": "c8049e06",
   "metadata": {},
   "outputs": [
    {
     "name": "stdout",
     "output_type": "stream",
     "text": [
      " real and different roots \n",
      "2.0\n",
      "1.0\n"
     ]
    }
   ],
   "source": [
    "# Python program to find roots of quadratic equation\n",
    "import math\n",
    "\n",
    "\n",
    "# function for finding roots\n",
    "def equationroots( a, b, c):\n",
    "\n",
    "\t# calculating discriminant using formula\n",
    "\tdis = b * b - 4 * a * c\n",
    "\tsqrt_val = math.sqrt(abs(dis))\n",
    "\t\n",
    "\t# checking condition for discriminant\n",
    "\tif dis > 0:\n",
    "\t\tprint(\" real and different roots \")\n",
    "\t\tprint((-b + sqrt_val)/(2 * a))\n",
    "\t\tprint((-b - sqrt_val)/(2 * a))\n",
    "\t\n",
    "\telif dis == 0:\n",
    "\t\tprint(\" real and same roots\")\n",
    "\t\tprint(-b / (2 * a))\n",
    "\t\n",
    "\t# when discriminant is less than 0\n",
    "\telse:\n",
    "\t\tprint(\"Complex Roots\")\n",
    "\t\tprint(- b / (2 * a), \" + i\", sqrt_val)\n",
    "\t\tprint(- b / (2 * a), \" - i\", sqrt_val)\n",
    "\n",
    "# Driver Program\n",
    "a = 1\n",
    "b = -3\n",
    "c = 2\n",
    "\n",
    "# If a is 0, then incorrect equation\n",
    "if a == 0:\n",
    "\t\tprint(\"Input correct quadratic equation\")\n",
    "\n",
    "else:\n",
    "\tequationroots(a, b, c)\n"
   ]
  },
  {
   "cell_type": "code",
   "execution_count": 9,
   "id": "d9707df5",
   "metadata": {},
   "outputs": [
    {
     "ename": "IndentationError",
     "evalue": "expected an indented block (2561137125.py, line 13)",
     "output_type": "error",
     "traceback": [
      "\u001b[1;36m  File \u001b[1;32m\"C:\\Users\\13129\\AppData\\Local\\Temp\\ipykernel_17116\\2561137125.py\"\u001b[1;36m, line \u001b[1;32m13\u001b[0m\n\u001b[1;33m    print(\" real and different roots \")\u001b[0m\n\u001b[1;37m    ^\u001b[0m\n\u001b[1;31mIndentationError\u001b[0m\u001b[1;31m:\u001b[0m expected an indented block\n"
     ]
    }
   ],
   "source": [
    "\n",
    "import math\n",
    "\n",
    "\n",
    "# function for finding roots\n",
    "def equationroots( a, b, c):\n",
    "\n",
    "# calculating discriminant using formula\n",
    "    dis = b * b - 4 * a * c\n",
    "    sqrt_val = math.sqrt(abs(dis))\n",
    "\n",
    "# checking condition for discriminant\n",
    "    if dis > 0:\n",
    "    print(\" real and different roots \")\n",
    "    print((-b + sqrt_val)/(2 * a))\n",
    "    print((-b - sqrt_val)/(2 * a))\n",
    "\n",
    "    elif dis == 0:\n",
    "    print(\" real and same roots\")\n",
    "    print(-b / (2 * a))\n",
    "\n",
    "# when discriminant is less than 0\n",
    "    else:\n",
    "    print(\"Complex Roots\")\n",
    "    print(- b / (2 * a), \" + i\", sqrt_val)\n",
    "    print(- b / (2 * a), \" - i\", sqrt_val)\n",
    "\n",
    "# Driver Program\n",
    "a = 1\n",
    "b = -3\n",
    "c = 2\n",
    "\n",
    "# If a is 0, then incorrect equation\n",
    "if a == 0:\n",
    "print(\"Input correct quadratic equation\")\n",
    "\n",
    "else:\n",
    "equationroots(a, b, c)\n"
   ]
  },
  {
   "cell_type": "code",
   "execution_count": null,
   "id": "a82fa08d",
   "metadata": {},
   "outputs": [],
   "source": [
    "# Python program to find roots of quadratic equation\n",
    "import math\n",
    "\n",
    "\n",
    "# function for finding roots\n",
    "def equationroots( a, b, c):\n",
    "\n",
    "\t# calculating discriminant using formula\n",
    "\tdis = b * b - 4 * a * c\n",
    "\tsq_val = math.sqrt(abs(dis))\n",
    "\t\n",
    "\t# checking condition for discriminant\n",
    "\tif dis > 0:\n",
    "\t\tprint(\" real and different roots \")\n",
    "\t\tprint((-b + sqrt_val)/(2 * a))\n",
    "\t\tprint((-b - sqrt_val)/(2 * a))\n",
    "\t\n",
    "\telif dis == 0:\n",
    "\t\tprint(\" real and same roots\")\n",
    "\t\tprint(-b / (2 * a))\n",
    "\t\n",
    "\t# when discriminant is less than 0\n",
    "\telse:\n",
    "\t\tprint(\"Complex Roots\")\n",
    "\t\tprint(- b / (2 * a), \" + i\", sqrt_val)\n",
    "\t\tprint(- b / (2 * a), \" - i\", sqrt_val)\n",
    "\n",
    "# Driver Program\n",
    "a = 1\n",
    "b = -3\n",
    "c = 2\n",
    "\n",
    "# If a is 0, then incorrect equation\n",
    "if a == 0:\n",
    "\t\tprint(\"Input correct quadratic equation\")\n",
    "\n",
    "else:\n",
    "\tequationroots(a, b, c)\n"
   ]
  },
  {
   "cell_type": "code",
   "execution_count": 11,
   "id": "5a811799",
   "metadata": {},
   "outputs": [
    {
     "name": "stdout",
     "output_type": "stream",
     "text": [
      " real and different roots \n",
      "2.0\n",
      "1.0\n"
     ]
    }
   ],
   "source": [
    "# Python program to find roots of quadratic equation\n",
    "import math\n",
    "\n",
    "\n",
    "# function for finding roots\n",
    "def equationroots( a, b, c):\n",
    "\n",
    "# calculating discriminant using formula\n",
    "    dis = b * b - 4 * a * c\n",
    "    sqrt_val = math.sqrt(abs(dis))\n",
    "\n",
    "# checking condition for discriminant\n",
    "    if dis > 0:\n",
    "        print(\" real and different roots \")\n",
    "        print((-b + sqrt_val)/(2 * a))\n",
    "        print((-b - sqrt_val)/(2 * a))\n",
    "\n",
    "    elif dis == 0:\n",
    "        print(\" real and same roots\")\n",
    "        print(-b / (2 * a))\n",
    "    \n",
    " # when discriminant is less than 0\n",
    "    else:\n",
    "        print(\"Complex Roots\")\n",
    "        print(- b / (2 * a), \" + i\", sqrt_val)\n",
    "        print(- b / (2 * a), \" - i\", sqrt_val)\n",
    "\n",
    "# Driver Program\n",
    "a = 1\n",
    "b = -3\n",
    "c = 2\n",
    "\n",
    "# If a is 0, then incorrect equation\n",
    "if a == 0:\n",
    "        print(\"Input correct quadratic equation\")\n",
    "\n",
    "else:\n",
    "    equationroots(a, b, c)\n"
   ]
  },
  {
   "cell_type": "code",
   "execution_count": 12,
   "id": "c97ca152",
   "metadata": {},
   "outputs": [
    {
     "name": "stdout",
     "output_type": "stream",
     "text": [
      "2.0\n",
      "1.0\n"
     ]
    }
   ],
   "source": [
    "# Python program to find roots of quadratic equation\n",
    "import math\n",
    "\n",
    "\n",
    "# function for finding roots\n",
    "def equationroots( a, b, c):\n",
    "\n",
    "# calculating discriminant using formula\n",
    "    dis = b * b - 4 * a * c\n",
    "    sqrt_val = math.sqrt(abs(dis))\n",
    "\n",
    "# checking condition for discriminant\n",
    "    if dis > 0:\n",
    "        \n",
    "        print((-b + sqrt_val)/(2 * a))\n",
    "        print((-b - sqrt_val)/(2 * a))\n",
    "\n",
    "    elif dis == 0:\n",
    "        \n",
    "        print(-b / (2 * a))\n",
    "    \n",
    " # when discriminant is less than 0\n",
    "    else:\n",
    "        \n",
    "        print(- b / (2 * a), \" + i\", sqrt_val)\n",
    "        print(- b / (2 * a), \" - i\", sqrt_val)\n",
    "\n",
    "# Driver Program\n",
    "a = 1\n",
    "b = -3\n",
    "c = 2\n",
    "\n",
    "# If a is 0, then incorrect equation\n",
    "if a == 0:\n",
    "        print(\"Input correct quadratic equation\")\n",
    "\n",
    "else:\n",
    "    equationroots(a, b, c)\n"
   ]
  },
  {
   "cell_type": "code",
   "execution_count": 14,
   "id": "9d1c0f88",
   "metadata": {},
   "outputs": [
    {
     "name": "stdout",
     "output_type": "stream",
     "text": [
      "2.0\n",
      "1.0\n"
     ]
    }
   ],
   "source": [
    "# Python program to find roots of quadratic equation\n",
    "import math\n",
    "\n",
    "\n",
    "# function for finding roots\n",
    "def equationroots( a, b, c):\n",
    "\n",
    "# calculating discriminant using formula\n",
    "    dis = b * b - 4 * a * c\n",
    "    sqrt_val = math.sqrt(abs(dis))\n",
    "\n",
    "# checking condition for discriminant\n",
    "    if dis > 0:\n",
    "        \n",
    "        print((-b + sqrt_val)/(2 * a))\n",
    "        print((-b - sqrt_val)/(2 * a))\n",
    "\n",
    "   \n",
    "\n",
    "a = 1\n",
    "b = -3\n",
    "c = 2\n",
    "\n",
    "# If a is 0, then incorrect equation\n",
    "if a == 0:\n",
    "        print(\"Input correct quadratic equation\")\n",
    "\n",
    "else:\n",
    "    equationroots(a, b, c)\n"
   ]
  },
  {
   "cell_type": "code",
   "execution_count": 15,
   "id": "4cf8086d",
   "metadata": {},
   "outputs": [
    {
     "name": "stdout",
     "output_type": "stream",
     "text": [
      "2.0\n",
      "1.0\n"
     ]
    }
   ],
   "source": [
    "# Python program to find roots of quadratic equation\n",
    "import math\n",
    "\n",
    "\n",
    "# function for finding roots\n",
    "def equationroots( a, b, c):\n",
    "\n",
    "# calculating discriminant using formula\n",
    "    dis = b * b - 4 * a * c\n",
    "    sqrt_val = math.sqrt(abs(dis))\n",
    "\n",
    "# checking condition for discriminant\n",
    "    if dis > 0:\n",
    "        \n",
    "        print((-b + sqrt_val)/(2 * a))\n",
    "        print((-b - sqrt_val)/(2 * a))\n",
    "\n",
    "a = 1\n",
    "b = -3\n",
    "c = 2\n",
    "\n",
    "# If a is 0, then incorrect equation\n",
    "if a == 0:\n",
    "        print(\"Input correct quadratic equation\")\n",
    "\n",
    "else:\n",
    "    equationroots(a, b, c)\n"
   ]
  },
  {
   "cell_type": "code",
   "execution_count": 20,
   "id": "7fcd7902",
   "metadata": {},
   "outputs": [
    {
     "name": "stdout",
     "output_type": "stream",
     "text": [
      "The roots are\n",
      "(-1+0j)\n",
      "(-1+0j)\n"
     ]
    }
   ],
   "source": [
    "# import complex math module\n",
    "import cmath\n",
    "\n",
    "a = 1\n",
    "b = 2\n",
    "c = 1\n",
    "\n",
    "# calculating the discriminant\n",
    "dis = (b**2) - (4 * a*c)\n",
    "\n",
    "# find two results\n",
    "ans1 = (-b-cmath.sqrt(dis))/(2 * a)\n",
    "ans2 = (-b + cmath.sqrt(dis))/(2 * a)\n",
    "\n",
    "# printing the results\n",
    "print('The roots are')\n",
    "print(ans1)\n",
    "print(ans2)\n"
   ]
  },
  {
   "cell_type": "code",
   "execution_count": 21,
   "id": "21dbe627",
   "metadata": {},
   "outputs": [
    {
     "name": "stdout",
     "output_type": "stream",
     "text": [
      " real and same roots\n",
      "-1.0\n"
     ]
    }
   ],
   "source": [
    "# Python program to find roots of quadratic equation\n",
    "import math\n",
    "\n",
    "\n",
    "# function for finding roots\n",
    "def equationroots( a, b, c):\n",
    "\n",
    "# calculating discriminant using formula\n",
    "    dis = b * b - 4 * a * c\n",
    "    sqrt_val = math.sqrt(abs(dis))\n",
    "\n",
    "# checking condition for discriminant\n",
    "    if dis > 0:\n",
    "        print(\" real and different roots \")\n",
    "        print((-b + sqrt_val)/(2 * a))\n",
    "        print((-b - sqrt_val)/(2 * a))\n",
    "\n",
    "    elif dis == 0:\n",
    "        print(\" real and same roots\")\n",
    "        print(-b / (2 * a))\n",
    "    \n",
    " # when discriminant is less than 0\n",
    "    else:\n",
    "        print(\"Complex Roots\")\n",
    "        print(- b / (2 * a), \" + i\", sqrt_val)\n",
    "        print(- b / (2 * a), \" - i\", sqrt_val)\n",
    "\n",
    "# Driver Program\n",
    "a = 1\n",
    "b = 2\n",
    "c = 1\n",
    "\n",
    "# If a is 0, then incorrect equation\n",
    "if a == 0:\n",
    "        print(\"Input correct quadratic equation\")\n",
    "\n",
    "else:\n",
    "    equationroots(a, b, c)\n"
   ]
  },
  {
   "cell_type": "code",
   "execution_count": 22,
   "id": "dae24d97",
   "metadata": {},
   "outputs": [
    {
     "name": "stdout",
     "output_type": "stream",
     "text": [
      "2, 3, 5, 6\n"
     ]
    },
    {
     "ename": "ValueError",
     "evalue": "invalid literal for int() with base 10: '2, 3, 5, 6'",
     "output_type": "error",
     "traceback": [
      "\u001b[1;31m---------------------------------------------------------------------------\u001b[0m",
      "\u001b[1;31mValueError\u001b[0m                                Traceback (most recent call last)",
      "\u001b[1;32m~\\AppData\\Local\\Temp\\ipykernel_17116\\292595151.py\u001b[0m in \u001b[0;36m<module>\u001b[1;34m\u001b[0m\n\u001b[1;32m----> 1\u001b[1;33m \u001b[0mn\u001b[0m \u001b[1;33m=\u001b[0m \u001b[0mint\u001b[0m\u001b[1;33m(\u001b[0m\u001b[0minput\u001b[0m\u001b[1;33m(\u001b[0m\u001b[1;33m)\u001b[0m\u001b[1;33m)\u001b[0m\u001b[1;33m\u001b[0m\u001b[1;33m\u001b[0m\u001b[0m\n\u001b[0m\u001b[0;32m      2\u001b[0m \u001b[0melements\u001b[0m \u001b[1;33m=\u001b[0m \u001b[0mmap\u001b[0m\u001b[1;33m(\u001b[0m\u001b[0mint\u001b[0m\u001b[1;33m,\u001b[0m \u001b[0minput\u001b[0m\u001b[1;33m(\u001b[0m\u001b[1;33m)\u001b[0m\u001b[1;33m.\u001b[0m\u001b[0msplit\u001b[0m\u001b[1;33m(\u001b[0m\u001b[1;33m)\u001b[0m\u001b[1;33m)\u001b[0m\u001b[1;33m\u001b[0m\u001b[1;33m\u001b[0m\u001b[0m\n\u001b[0;32m      3\u001b[0m \u001b[0mt\u001b[0m\u001b[1;33m=\u001b[0m\u001b[0mtuple\u001b[0m\u001b[1;33m(\u001b[0m\u001b[0melements\u001b[0m\u001b[1;33m)\u001b[0m\u001b[1;33m\u001b[0m\u001b[1;33m\u001b[0m\u001b[0m\n\u001b[0;32m      4\u001b[0m \u001b[0mprint\u001b[0m\u001b[1;33m(\u001b[0m\u001b[0mhash\u001b[0m\u001b[1;33m(\u001b[0m\u001b[0mt\u001b[0m\u001b[1;33m)\u001b[0m\u001b[1;33m)\u001b[0m\u001b[1;33m\u001b[0m\u001b[1;33m\u001b[0m\u001b[0m\n",
      "\u001b[1;31mValueError\u001b[0m: invalid literal for int() with base 10: '2, 3, 5, 6'"
     ]
    }
   ],
   "source": [
    " n = int(input())\n",
    "elements = map(int, input().split())\n",
    "t=tuple(elements)\n",
    "print(hash(t))"
   ]
  },
  {
   "cell_type": "code",
   "execution_count": 23,
   "id": "1e05b34a",
   "metadata": {},
   "outputs": [
    {
     "name": "stdout",
     "output_type": "stream",
     "text": [
      "2, 1\n"
     ]
    },
    {
     "ename": "ValueError",
     "evalue": "invalid literal for int() with base 10: '2, 1'",
     "output_type": "error",
     "traceback": [
      "\u001b[1;31m---------------------------------------------------------------------------\u001b[0m",
      "\u001b[1;31mValueError\u001b[0m                                Traceback (most recent call last)",
      "\u001b[1;32m~\\AppData\\Local\\Temp\\ipykernel_17116\\488652101.py\u001b[0m in \u001b[0;36m<module>\u001b[1;34m\u001b[0m\n\u001b[1;32m----> 1\u001b[1;33m \u001b[0mn\u001b[0m \u001b[1;33m=\u001b[0m \u001b[0mint\u001b[0m\u001b[1;33m(\u001b[0m\u001b[0minput\u001b[0m\u001b[1;33m(\u001b[0m\u001b[1;33m)\u001b[0m\u001b[1;33m)\u001b[0m\u001b[1;33m\u001b[0m\u001b[1;33m\u001b[0m\u001b[0m\n\u001b[0m\u001b[0;32m      2\u001b[0m \u001b[0mint_list\u001b[0m \u001b[1;33m=\u001b[0m \u001b[1;33m[\u001b[0m\u001b[0mint\u001b[0m\u001b[1;33m(\u001b[0m\u001b[0mi\u001b[0m\u001b[1;33m)\u001b[0m \u001b[1;32mfor\u001b[0m \u001b[0mi\u001b[0m \u001b[1;32min\u001b[0m \u001b[0minput\u001b[0m\u001b[1;33m(\u001b[0m\u001b[1;33m)\u001b[0m\u001b[1;33m.\u001b[0m\u001b[0msplit\u001b[0m\u001b[1;33m(\u001b[0m\u001b[1;33m)\u001b[0m\u001b[1;33m]\u001b[0m\u001b[1;33m\u001b[0m\u001b[1;33m\u001b[0m\u001b[0m\n\u001b[0;32m      3\u001b[0m \u001b[0mint_tuple\u001b[0m \u001b[1;33m=\u001b[0m \u001b[0mtuple\u001b[0m\u001b[1;33m(\u001b[0m\u001b[0mint_list\u001b[0m\u001b[1;33m)\u001b[0m\u001b[1;33m\u001b[0m\u001b[1;33m\u001b[0m\u001b[0m\n\u001b[0;32m      4\u001b[0m \u001b[0mprint\u001b[0m\u001b[1;33m(\u001b[0m\u001b[0mhash\u001b[0m\u001b[1;33m(\u001b[0m\u001b[0mint_tuple\u001b[0m\u001b[1;33m)\u001b[0m\u001b[1;33m)\u001b[0m\u001b[1;33m\u001b[0m\u001b[1;33m\u001b[0m\u001b[0m\n",
      "\u001b[1;31mValueError\u001b[0m: invalid literal for int() with base 10: '2, 1'"
     ]
    }
   ],
   "source": [
    "n = int(input())\n",
    "int_list = [int(i) for i in input().split()]\n",
    "int_tuple = tuple(int_list)\n",
    "print(hash(int_tuple))\n"
   ]
  },
  {
   "cell_type": "code",
   "execution_count": 24,
   "id": "b1d79598",
   "metadata": {},
   "outputs": [
    {
     "name": "stdout",
     "output_type": "stream",
     "text": [
      "2\n",
      "1\n",
      "-6644214454873602895\n"
     ]
    }
   ],
   "source": [
    "n = int(input())\n",
    "int_list = [int(i) for i in input().split()]\n",
    "int_tuple = tuple(int_list)\n",
    "print(hash(int_tuple))\n"
   ]
  },
  {
   "cell_type": "code",
   "execution_count": 25,
   "id": "8ebffe4c",
   "metadata": {},
   "outputs": [
    {
     "name": "stdout",
     "output_type": "stream",
     "text": [
      "0\n",
      "0\n",
      "-8753497827991233192\n"
     ]
    }
   ],
   "source": [
    "n = int(input())\n",
    "int_list = [int(i) for i in input().split()]\n",
    "int_tuple = tuple(int_list)\n",
    "print(hash(int_tuple))\n"
   ]
  },
  {
   "cell_type": "code",
   "execution_count": 26,
   "id": "8b13ce14",
   "metadata": {},
   "outputs": [
    {
     "name": "stdout",
     "output_type": "stream",
     "text": [
      "2\n",
      "12\n",
      "-860454829093830431\n"
     ]
    }
   ],
   "source": [
    "n = int(input())\n",
    "int_list = [int(i) for i in input().split()]\n",
    "int_tuple = tuple(int_list)\n",
    "print(hash(int_tuple))\n"
   ]
  },
  {
   "cell_type": "code",
   "execution_count": 1,
   "id": "62a0592b",
   "metadata": {},
   "outputs": [
    {
     "name": "stdout",
     "output_type": "stream",
     "text": [
      "[6, 12, 18]\n"
     ]
    }
   ],
   "source": [
    "listOne = [3, 6, 9, 12, 15, 18, 21]\n",
    "listTwo = [4, 8, 12, 16, 20, 24, 28]\n",
    "\n",
    "listOne = listOne[1::2]\n",
    "print(listOne)"
   ]
  },
  {
   "cell_type": "code",
   "execution_count": 2,
   "id": "0bcc4d36",
   "metadata": {},
   "outputs": [
    {
     "name": "stdout",
     "output_type": "stream",
     "text": [
      "[4, 12, 20, 28]\n"
     ]
    }
   ],
   "source": [
    "listOne = [3, 6, 9, 12, 15, 18, 21]\n",
    "listTwo = [4, 8, 12, 16, 20, 24, 28]\n",
    "\n",
    "listTwo = listTwo[0::2]\n",
    "print(listTwo)\n"
   ]
  },
  {
   "cell_type": "code",
   "execution_count": 3,
   "id": "b770e04b",
   "metadata": {},
   "outputs": [
    {
     "name": "stdout",
     "output_type": "stream",
     "text": [
      "[3, 6, 9, 12, 15, 18, 21, 4, 8, 12, 16, 20, 24, 28]\n"
     ]
    }
   ],
   "source": [
    "listOne = [3, 6, 9, 12, 15, 18, 21]\n",
    "listTwo = [4, 8, 12, 16, 20, 24, 28]\n",
    "\n",
    "listThree = listOne + listTwo\n",
    "print(listThree)\n"
   ]
  },
  {
   "cell_type": "code",
   "execution_count": 5,
   "id": "05b6f072",
   "metadata": {},
   "outputs": [
    {
     "name": "stdout",
     "output_type": "stream",
     "text": [
      "[6, 12, 18]\n",
      "[4, 12, 20, 28]\n",
      "[6, 12, 18, 4, 12, 20, 28]\n"
     ]
    }
   ],
   "source": [
    "listOne = [3, 6, 9, 12, 15, 18, 21]\n",
    "listTwo = [4, 8, 12, 16, 20, 24, 28]\n",
    "\n",
    "odd_index  = []\n",
    "even_index = []\n",
    "ft_list = []    # Final List combination between odd and even list\n",
    "\n",
    "for odd in listOne:\n",
    "    if (listOne.index(odd) % 2) == 0 :\n",
    "        pass\n",
    "    else:\n",
    "        odd_index.append(odd)\n",
    "for even in listTwo:\n",
    "    if (listTwo.index(even) % 2) == 0 :\n",
    "        even_index.append(even)\n",
    "\n",
    "ft_list = odd_index + even_index\n",
    "\n",
    "print(odd_index)\n",
    "print(even_index)\n",
    "print(ft_list)\n"
   ]
  },
  {
   "cell_type": "code",
   "execution_count": 6,
   "id": "db4a3ac9",
   "metadata": {},
   "outputs": [
    {
     "name": "stdout",
     "output_type": "stream",
     "text": [
      "Element at odd-index positions from list one\n",
      "[6, 12, 18]\n",
      "Element at even-index positions from list two\n",
      "[4, 12, 20, 28]\n",
      "Printing Final third list\n",
      "[6, 12, 18, 4, 12, 20, 28]\n"
     ]
    }
   ],
   "source": [
    "l1 = [3, 6, 9, 12, 15, 18, 21]  \n",
    "l2 = [4, 8, 12, 16, 20, 24, 28]  \n",
    "odd_index_list = [num for index, num in enumerate(l1) if index % 2]  \n",
    "print(\"Element at odd-index positions from list one\")  \n",
    "print(odd_index_list)  \n",
    "\n",
    "even_index_list = [num for index, num in enumerate(l2) if not index % 2]  \n",
    "print(\"Element at even-index positions from list two\")  \n",
    "print(even_index_list)  \n",
    "\n",
    "final_list = odd_index_list + even_index_list  \n",
    "print(\"Printing Final third list\")  \n",
    "print(final_list)\n"
   ]
  },
  {
   "cell_type": "code",
   "execution_count": 8,
   "id": "094f7ed7",
   "metadata": {},
   "outputs": [
    {
     "name": "stdout",
     "output_type": "stream",
     "text": [
      "Printing Final third list\n",
      "[6, 12, 18, 4, 12, 20, 28]\n"
     ]
    }
   ],
   "source": [
    "l1 = [3, 6, 9, 12, 15, 18, 21]  \n",
    "l2 = [4, 8, 12, 16, 20, 24, 28]  \n",
    "odd_index_list = [num for index, num in enumerate(l1) if index % 2]  \n",
    "\n",
    "even_index_list = [num for index, num in enumerate(l2) if not index % 2]  \n",
    "\n",
    "\n",
    "final_list = odd_index_list + even_index_list  \n",
    "print(\"Printing Final third list\")  \n",
    "print(final_list)\n"
   ]
  },
  {
   "cell_type": "code",
   "execution_count": 9,
   "id": "abf7c9ec",
   "metadata": {},
   "outputs": [
    {
     "name": "stdout",
     "output_type": "stream",
     "text": [
      "[4, 3, 2, 1, 4, 3, 2, 1, 4, 3, 2, 1, 3, 2, 1]\n"
     ]
    }
   ],
   "source": [
    "lst = [1, 2, 3, 4, 1, 2, 3, 4, 1, 2, 3, 4, 1, 2, 3]\n",
    "chunk = 4\n",
    "\n",
    "for i in range(0, len(lst), chunk):\n",
    "    lst[i:i+chunk] = reversed(lst[i:i+chunk])\n",
    "\n",
    "print(lst)\n",
    "# [4, 3, 2, 1, 4, 3, 2, 1, 4, 3, 2, 1, 3, 2, 1]"
   ]
  },
  {
   "cell_type": "code",
   "execution_count": 10,
   "id": "16b6180b",
   "metadata": {},
   "outputs": [
    {
     "name": "stdout",
     "output_type": "stream",
     "text": [
      "[47, 69, 76, 97]\n"
     ]
    }
   ],
   "source": [
    "rollNumber = [47, 64, 69, 37, 76, 83, 95, 97]\n",
    "sampleDict ={'Zach':47, 'Emma':69, 'Kelly':76, 'Jason':97}\n",
    "\n",
    "\n",
    "result = []\n",
    "\n",
    "\n",
    "for x in rollNumber:\n",
    "    for y in sampleDict.values():\n",
    "        if x == y:\n",
    "            result.append(x)\n",
    "print(result)"
   ]
  },
  {
   "cell_type": "code",
   "execution_count": 13,
   "id": "5d6631b3",
   "metadata": {},
   "outputs": [
    {
     "name": "stdout",
     "output_type": "stream",
     "text": [
      "Original list  [11, 45, 8, 23, 14, 12, 78, 45, 89]\n",
      "Chunk  0 [11, 45, 8]\n",
      "After reversing it  [8, 45, 11]\n",
      "Chunk  1 [23, 14, 12]\n",
      "After reversing it  [12, 14, 23]\n",
      "Chunk  2 [78, 45, 89]\n",
      "After reversing it  [89, 45, 78]\n"
     ]
    }
   ],
   "source": [
    "sample_list = [11, 45, 8, 23, 14, 12, 78, 45, 89]\n",
    "print(\"Original list \", sample_list)\n",
    "\n",
    "length = len(sample_list)\n",
    "chunk_size = int(length / 3)\n",
    "start = 0\n",
    "end = chunk_size\n",
    "\n",
    "# run loop 3 times\n",
    "for i in range(3):\n",
    "    # get indexes\n",
    "    indexes = slice(start, end)\n",
    "    \n",
    "    # get chunk\n",
    "    list_chunk = sample_list[indexes]\n",
    "    print(\"Chunk \", i, list_chunk)\n",
    "    \n",
    "    # reverse chunk\n",
    "    print(\"After reversing it \", list(reversed(list_chunk)))\n",
    "\n",
    "    start = end\n",
    "    end += chunk_size"
   ]
  },
  {
   "cell_type": "code",
   "execution_count": 14,
   "id": "e91f4d20",
   "metadata": {},
   "outputs": [
    {
     "name": "stdout",
     "output_type": "stream",
     "text": [
      "Original list  [11, 45, 8, 23, 14, 12, 78, 45, 89]\n"
     ]
    }
   ],
   "source": [
    "sample_list = [11, 45, 8, 23, 14, 12, 78, 45, 89]\n",
    "print(\"Original list \", sample_list)\n",
    "\n",
    "length = len(sample_list)\n",
    "chunk_size = int(length / 3)\n",
    "start = 0\n",
    "end = chunk_size\n",
    "\n",
    "# run loop 3 times\n",
    "for i in range(3):\n",
    "    # get indexes\n",
    "    indexes = slice(start, end)\n",
    "    \n",
    "   \n",
    "    start = end\n",
    "    end += chunk_size"
   ]
  },
  {
   "cell_type": "code",
   "execution_count": 15,
   "id": "59932d94",
   "metadata": {},
   "outputs": [
    {
     "name": "stdout",
     "output_type": "stream",
     "text": [
      "Original list  [11, 45, 8, 23, 14, 12, 78, 45, 89]\n",
      "Chunk  0 [11, 45, 8]\n",
      "After reversing it  [8, 45, 11]\n",
      "Chunk  1 [23, 14, 12]\n",
      "After reversing it  [12, 14, 23]\n",
      "Chunk  2 [78, 45, 89]\n",
      "After reversing it  [89, 45, 78]\n"
     ]
    }
   ],
   "source": [
    "sample_list = [11, 45, 8, 23, 14, 12, 78, 45, 89]\n",
    "print(\"Original list \", sample_list)\n",
    "\n",
    "length = len(sample_list)\n",
    "chunk_size = int(length / 3)\n",
    "start = 0\n",
    "end = chunk_size\n",
    "\n",
    "# run loop 3 times\n",
    "for i in range(3):\n",
    "    # get indexes\n",
    "    indexes = slice(start, end)\n",
    "    \n",
    "    # get chunk\n",
    "    list_chunk = sample_list[indexes]\n",
    "    print(\"Chunk \", i, list_chunk)\n",
    "    \n",
    "    # reverse chunk\n",
    "    print(\"After reversing it \", list(reversed(list_chunk)))\n",
    "\n",
    "    start = end\n",
    "    end += chunk_size"
   ]
  },
  {
   "cell_type": "code",
   "execution_count": 16,
   "id": "0c1c3a2c",
   "metadata": {},
   "outputs": [
    {
     "name": "stdout",
     "output_type": "stream",
     "text": [
      "[4, 3, 2, 1, 4, 3, 2, 1, 4, 3, 2, 1, 3, 2, 1]\n"
     ]
    }
   ],
   "source": [
    "lst = [1, 2, 3, 4, 1, 2, 3, 4, 1, 2, 3, 4, 1, 2, 3]\n",
    "chunk = 4\n",
    "\n",
    "for i in range(0, len(lst), chunk):\n",
    "    lst[i:i+chunk] = reversed(lst[i:i+chunk])\n",
    "\n",
    "print(lst)\n",
    "# [4, 3, 2, 1, 4, 3, 2, 1, 4, 3, 2, 1, 3, 2, 1]"
   ]
  },
  {
   "cell_type": "code",
   "execution_count": 21,
   "id": "161cfd33",
   "metadata": {},
   "outputs": [
    {
     "name": "stdout",
     "output_type": "stream",
     "text": [
      "Chunk 0 [11, 45, 8]\n",
      "Reversed [8, 45, 11]\n",
      "Chunk 1 [23, 14, 12]\n",
      "Reversed [12, 14, 23]\n",
      "Chunk 2 [78, 45, 89]\n",
      "Reversed [89, 45, 78]\n"
     ]
    }
   ],
   "source": [
    "sample_list = [11, 45, 8, 23, 14, 12, 78, 45, 89]\n",
    "\n",
    "\n",
    "length = len(sample_list)\n",
    "chunk_size = int(length / 3)\n",
    "start = 0\n",
    "end = chunk_size\n",
    "\n",
    "# run loop 3 times\n",
    "for i in range(3):\n",
    "    # get indexes\n",
    "    indexes = slice(start, end)\n",
    "    \n",
    "    # get chunk\n",
    "    list_chunk = sample_list[indexes]\n",
    "    print(\"Chunk\", i, list_chunk)\n",
    "    \n",
    "    # reverse chunk\n",
    "    print(\"Reversed\",list(reversed(list_chunk)))\n",
    "\n",
    "    start = end\n",
    "    end += chunk_size"
   ]
  },
  {
   "cell_type": "code",
   "execution_count": 13,
   "id": "7fed5797",
   "metadata": {},
   "outputs": [
    {
     "name": "stdout",
     "output_type": "stream",
     "text": [
      "Valid Password\n"
     ]
    }
   ],
   "source": [
    "import re\n",
    "password = \"R@m@_f0rtu9e$\"\n",
    "flag = 0\n",
    "while True:\n",
    "\tif (len(password)<=6)and len(pasw) <= 16 and lower > 0 and number > 0 and special > 1 and upper > 1:\n",
    "\t\tflag = -1\n",
    "\t\tbreak\n",
    "\telif not re.search(\"[a-z]\", password):\n",
    "\t\tflag = -1\n",
    "\t\tbreak\n",
    "\telif not re.search(\"[A-Z]\", password):\n",
    "\t\tflag = -1\n",
    "\t\tbreak\n",
    "\telif not re.search(\"[0-9]\", password):\n",
    "\t\tflag = -1\n",
    "\t\tbreak\n",
    "\telif not re.search(\"[_@$]\" , password):\n",
    "\t\tflag = -1\n",
    "\t\tbreak\n",
    "\telif re.search(\"\\s\" , password):\n",
    "\t\tflag = -1\n",
    "\t\tbreak\n",
    "\telse:\n",
    "\t\tflag = 0\n",
    "\t\tprint(\"Valid Password\")\n",
    "\t\tbreak\n",
    "\n",
    "if flag == -1:\n",
    "\tprint(\"Not a Valid Password \")\n"
   ]
  },
  {
   "cell_type": "code",
   "execution_count": 8,
   "id": "b1c9b008",
   "metadata": {},
   "outputs": [
    {
     "name": "stdout",
     "output_type": "stream",
     "text": [
      "Invalid\n"
     ]
    }
   ],
   "source": [
    "pasw = 'Newyear23!'\n",
    "\n",
    "S = ['!','@','#','$','%','~','`','^','&','*','(',')','_','+','=','-']\n",
    "upper,lower,number,special = 0,0,0,0\n",
    "\n",
    "for n in pasw:\n",
    "    if n.islower():\n",
    "        lower=1\n",
    "    if n.isnumeric():\n",
    "        number=1\n",
    "    if n.isupper():\n",
    "        upper+=1\n",
    "    if n in S:\n",
    "        special+=1\n",
    "\n",
    "if len(pasw) >= 6 and len(pasw) <= 16 and lower > 0 and number > 0 and special > 1 and upper > 1:\n",
    "    print('Valid')\n",
    "else:\n",
    "    print('Invalid')"
   ]
  },
  {
   "cell_type": "code",
   "execution_count": 19,
   "id": "4a457394",
   "metadata": {},
   "outputs": [
    {
     "name": "stdout",
     "output_type": "stream",
     "text": [
      "Valid Password\n"
     ]
    }
   ],
   "source": [
    "import re\n",
    "password = \"Happynewyear23@!\"\n",
    "flag = 0\n",
    "while True:\n",
    "    if (len(password)<=6)and len(pasw) <= 16 and lower > 0 and number > 0 and special > 1 and upper > 1:\n",
    "        flag = -1\n",
    "        break\n",
    "    elif not re.search(\"[a-z]\", password):\n",
    "        flag = -1\n",
    "        break\n",
    "    elif not re.search(\"[A-Z]\", password):\n",
    "        flag = -1\n",
    "        break\n",
    "    elif not re.search(\"[0-9]\", password):\n",
    "        flag = -1\n",
    "        break\n",
    "    elif not re.search(\"[_@$]\" , password):\n",
    "        flag = -1\n",
    "        break\n",
    "    elif re.search(\"\\s\" , password):\n",
    "        flag = -1\n",
    "        break\n",
    "    else:\n",
    "        flag = 0\n",
    "        print(\"Valid Password\")\n",
    "        break\n",
    "\n",
    "if flag == -1:\n",
    "    print(\"Not a Valid Password \")\n"
   ]
  },
  {
   "cell_type": "code",
   "execution_count": 21,
   "id": "9a5438a2",
   "metadata": {},
   "outputs": [
    {
     "name": "stdout",
     "output_type": "stream",
     "text": [
      "Valid Password\n"
     ]
    }
   ],
   "source": [
    "import re\n",
    "password = \"Happynewyear23@!\"\n",
    "flag = 0\n",
    "while True:\n",
    "    if (len(password)<=6)and len(pasw) <= 16 and lower > 0 and number > 0 and special > 1 and upper > 1:\n",
    "        flag = -1\n",
    "        break\n",
    "    elif not re.search(\"[a-z]\", password):\n",
    "        flag = -1\n",
    "        break\n",
    "    elif not re.search(\"[A-Z]\", password):\n",
    "        flag = -1\n",
    "        break\n",
    "    elif not re.search(\"[0-9]\", password):\n",
    "        flag = -1\n",
    "        break\n",
    "    elif not re.search(\"[_@$]\" , password):\n",
    "        flag = -1\n",
    "        break\n",
    "    elif re.search(\"\\s\" , password):\n",
    "        flag = -1\n",
    "        break\n",
    "    else:\n",
    "        flag = 0\n",
    "        print(\"Valid Password\")\n",
    "        break\n",
    "\n",
    "if flag == -1:\n",
    "    print(\"Not a Valid Password \")\n"
   ]
  },
  {
   "cell_type": "code",
   "execution_count": 23,
   "id": "f80673ef",
   "metadata": {},
   "outputs": [
    {
     "name": "stdout",
     "output_type": "stream",
     "text": [
      "Valid Password\n"
     ]
    }
   ],
   "source": [
    "import re\n",
    "password = \"Happynewyear23@!\"\n",
    "flag = 0\n",
    "while True:\n",
    "    if (len(password)<=6)and len(pasw) <= 16:\n",
    "        flag = -1\n",
    "        break\n",
    "    elif not re.search(\"[a-z]\", password):\n",
    "        flag = -1\n",
    "        break\n",
    "    elif not re.search(\"[A-Z]\", password):\n",
    "        flag = -1\n",
    "        break\n",
    "    elif not re.search(\"[0-9]\", password):\n",
    "        flag = -1\n",
    "        break\n",
    "    elif not re.search(\"[_@$]\" , password):\n",
    "        flag = -1\n",
    "        break\n",
    "    elif re.search(\"\\s\" , password):\n",
    "        flag = -1\n",
    "        break\n",
    "    else:\n",
    "        flag = 0\n",
    "        print(\"Valid Password\")\n",
    "        break\n",
    "\n",
    "if flag == -1:\n",
    "    print(\"Invalid Password \")\n"
   ]
  },
  {
   "cell_type": "code",
   "execution_count": 25,
   "id": "de95fe40",
   "metadata": {},
   "outputs": [
    {
     "name": "stdout",
     "output_type": "stream",
     "text": [
      "Enter age of first person:12\n",
      "Enter age of second person:51\n",
      "Enter age of third person:23\n",
      "Second person is oldest\n",
      "First person is youngest\n"
     ]
    }
   ],
   "source": [
    "fp=eval(input(\"Enter age of first person:\"))\n",
    "\n",
    "#fp stands for first person  \n",
    "\n",
    "sp=eval(input(\"Enter age of second person:\"))\n",
    "\n",
    "#sp stands for second person\n",
    "\n",
    "tp=eval(input(\"Enter age of third person:\"))\n",
    "\n",
    "#tp stands for third person\n",
    "\n",
    "if( fp <sp <tp):\n",
    "\n",
    "   print(\"First person is youngest\")\n",
    "\n",
    "   print(\"Third person is oldest\")\n",
    "\n",
    "elif((fp > sp < tp)&(fp < tp )) :\n",
    "\n",
    "   print(\"Second person is youngest\")\n",
    "\n",
    "   print(\"Third person is oldest\")\n",
    "\n",
    "elif ((fp > sp < tp)&( fp > tp)):\n",
    "\n",
    "   print(\"Second person is youngest\")\n",
    "\n",
    "   print(\"First person is oldest\")\n",
    "\n",
    "elif ((fp < sp > tp)&( fp > tp)):\n",
    "\n",
    "   print(\"Second person is oldest\")\n",
    "\n",
    "   print(\"Third person is youngest\")\n",
    "\n",
    "elif ((fp < sp > tp)&( tp > fp)):\n",
    "\n",
    "   print(\"Second person is oldest\")\n",
    "\n",
    "   print(\"First person is youngest\")  \n",
    "\n",
    "else:\n",
    "\n",
    "   print(\"Third person is youngest\")\n",
    "\n",
    "   print(\"First person is oldest\")"
   ]
  },
  {
   "cell_type": "code",
   "execution_count": 28,
   "id": "4db7fb72",
   "metadata": {},
   "outputs": [
    {
     "name": "stdout",
     "output_type": "stream",
     "text": [
      "Enter age of Person A:5\n",
      "Enter age of Person B:61\n",
      "Enter age of Person C:15\n",
      "Person B is oldest\n",
      "Person A is youngest\n"
     ]
    }
   ],
   "source": [
    "fp=eval(input(\"Enter age of Person A:\"))\n",
    "\n",
    "#fp stands for Person A  \n",
    "\n",
    "sp=eval(input(\"Enter age of Person B:\"))\n",
    "\n",
    "#sp stands for Person B\n",
    "\n",
    "tp=eval(input(\"Enter age of Person C:\"))\n",
    "\n",
    "#tp stands for Person C\n",
    "\n",
    "if( fp <sp <tp):\n",
    "\n",
    "   print(\"Person A is youngest\")\n",
    "\n",
    "   print(\"Person C is oldest\")\n",
    "\n",
    "elif((fp > sp < tp)&(fp < tp )) :\n",
    "\n",
    "   print(\"Person B is youngest\")\n",
    "\n",
    "   print(\"Person C is oldest\")\n",
    "\n",
    "elif ((fp > sp < tp)&( fp > tp)):\n",
    "\n",
    "   print(\"Person B is youngest\")\n",
    "\n",
    "   print(\"Person A is oldest\")\n",
    "\n",
    "elif ((fp < sp > tp)&( fp > tp)):\n",
    "\n",
    "   print(\"Person B is oldest\")\n",
    "\n",
    "   print(\"Person C is youngest\")\n",
    "\n",
    "elif ((fp < sp > tp)&( tp > fp)):\n",
    "\n",
    "   print(\"Person B is oldest\")\n",
    "\n",
    "   print(\"Person A is youngest\")  \n",
    "\n",
    "else:\n",
    "\n",
    "   print(\"Person C is youngest\")\n",
    "\n",
    "   print(\"Person A is oldest\")"
   ]
  },
  {
   "cell_type": "code",
   "execution_count": 31,
   "id": "fc5f6fa0",
   "metadata": {},
   "outputs": [
    {
     "ename": "SyntaxError",
     "evalue": "EOL while scanning string literal (1105377625.py, line 2)",
     "output_type": "error",
     "traceback": [
      "\u001b[1;36m  File \u001b[1;32m\"C:\\Users\\13129\\AppData\\Local\\Temp\\ipykernel_24668\\1105377625.py\"\u001b[1;36m, line \u001b[1;32m2\u001b[0m\n\u001b[1;33m    total_classes = int(input (\"How many clases have been held in the year\u001b[0m\n\u001b[1;37m                                                                           ^\u001b[0m\n\u001b[1;31mSyntaxError\u001b[0m\u001b[1;31m:\u001b[0m EOL while scanning string literal\n"
     ]
    }
   ],
   "source": [
    "#number of classes held:\n",
    "total_classes = int(input (\"How many clases have been held in the year \n",
    "thus far? \"));\n",
    "\n",
    "#number of classes attended:\n",
    "attended_classes = int(input(\"How many classes have you attended? \"));\n",
    "\n",
    "#percentage of classes\n",
    "percentage_attendence = ((attended_classes/total_classes)*100);\n",
    "\n",
    "if percentage_attendence < 75:\n",
    "   \n",
    "    if medic == \"y\" or medic == \"Y\" or medic == \"yes\" or medic == \"ye\":\n",
    "        print (\"You are free to take part in the exam\");\n",
    "    else:\n",
    "        print (\"You can not take part in the exam\");\n",
    "else:\n",
    "    print (\"You are free to take part in the exam\");"
   ]
  },
  {
   "cell_type": "code",
   "execution_count": 32,
   "id": "1f1502dc",
   "metadata": {},
   "outputs": [
    {
     "ename": "SyntaxError",
     "evalue": "Missing parentheses in call to 'print'. Did you mean print(\"Number of classes held\")? (2232930960.py, line 1)",
     "output_type": "error",
     "traceback": [
      "\u001b[1;36m  File \u001b[1;32m\"C:\\Users\\13129\\AppData\\Local\\Temp\\ipykernel_24668\\2232930960.py\"\u001b[1;36m, line \u001b[1;32m1\u001b[0m\n\u001b[1;33m    print \"Number of classes held\"\u001b[0m\n\u001b[1;37m          ^\u001b[0m\n\u001b[1;31mSyntaxError\u001b[0m\u001b[1;31m:\u001b[0m Missing parentheses in call to 'print'. Did you mean print(\"Number of classes held\")?\n"
     ]
    }
   ],
   "source": [
    "print \"Number of classes held\"\n",
    "noh = input()\n",
    "print \"Number of classes attended\"\n",
    "noa = input()\n",
    "atten = (noa/float(noh))*100\n",
    "print \"Attendence is\",atten\n",
    "\n",
    "print \"Medical cause? Y or N\"\n",
    "medical_cause = raw_input()\n",
    "\n",
    "\n",
    "if medical_cause == 'Y':\n",
    "  print \"You are allowed\"\n",
    "else:\n",
    "  if atten>=75:\n",
    "    print \"Allowed\"\n",
    "  else:\n",
    "    print \"Not allowed\""
   ]
  },
  {
   "cell_type": "code",
   "execution_count": 33,
   "id": "a4ab52a7",
   "metadata": {},
   "outputs": [
    {
     "name": "stdout",
     "output_type": "stream",
     "text": [
      "Number of classes held:120\n",
      "Number of classes attended:80\n",
      "The student is not allowed to sit in the exam hall\n"
     ]
    }
   ],
   "source": [
    "a=int(input(\"Number of classes held:\"))\n",
    "b=int(input(\"Number of classes attended:\"))\n",
    "percentage=b/a*100\n",
    "if percentage>=75:\n",
    "    print(\"The student is allowed to sit in the exam hall\")\n",
    "else: \n",
    "    \n",
    "    print(\"The student is not allowed to sit in the exam hall\")"
   ]
  },
  {
   "cell_type": "code",
   "execution_count": null,
   "id": "4463e352",
   "metadata": {},
   "outputs": [],
   "source": []
  }
 ],
 "metadata": {
  "kernelspec": {
   "display_name": "Python 3 (ipykernel)",
   "language": "python",
   "name": "python3"
  },
  "language_info": {
   "codemirror_mode": {
    "name": "ipython",
    "version": 3
   },
   "file_extension": ".py",
   "mimetype": "text/x-python",
   "name": "python",
   "nbconvert_exporter": "python",
   "pygments_lexer": "ipython3",
   "version": "3.9.13"
  }
 },
 "nbformat": 4,
 "nbformat_minor": 5
}
