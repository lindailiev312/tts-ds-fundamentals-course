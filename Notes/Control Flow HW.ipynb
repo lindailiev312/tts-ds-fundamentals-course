{
 "cells": [
  {
   "cell_type": "code",
   "execution_count": 2,
   "id": "acaa9b37",
   "metadata": {},
   "outputs": [
    {
     "name": "stdout",
     "output_type": "stream",
     "text": [
      "Guess a number between 1 and 10 until you get it right : 6\n",
      "Guess a number between 1 and 10 until you get it right : 7\n",
      "Guess a number between 1 and 10 until you get it right : 3\n",
      "Guess a number between 1 and 10 until you get it right : 2\n",
      "Correct!\n"
     ]
    }
   ],
   "source": [
    "import random\n",
    "target_num, guess_num = random.randint(1, 10), 0\n",
    "while target_num != guess_num:\n",
    "    guess_num = int(input('Guess a number between 1 and 10 until you get it right : '))\n",
    "print('Correct!')\n"
   ]
  },
  {
   "cell_type": "code",
   "execution_count": 3,
   "id": "c81c2904",
   "metadata": {},
   "outputs": [
    {
     "name": "stdout",
     "output_type": "stream",
     "text": [
      "Valid Password\n"
     ]
    }
   ],
   "source": [
    "import re\n",
    "password = \"Happynewyear23@!\"\n",
    "flag = 0\n",
    "while True:\n",
    "    if (len(password)<=6)and len(pasw) <= 16:\n",
    "        flag = -1\n",
    "        break\n",
    "    elif not re.search(\"[a-z]\", password):\n",
    "        flag = -1\n",
    "        break\n",
    "    elif not re.search(\"[A-Z]\", password):\n",
    "        flag = -1\n",
    "        break\n",
    "    elif not re.search(\"[0-9]\", password):\n",
    "        flag = -1\n",
    "        break\n",
    "    elif not re.search(\"[_@$]\" , password):\n",
    "        flag = -1\n",
    "        break\n",
    "    elif re.search(\"\\s\" , password):\n",
    "        flag = -1\n",
    "        break\n",
    "    else:\n",
    "        flag = 0\n",
    "        print(\"Valid Password\")\n",
    "        break\n",
    "\n",
    "if flag == -1:\n",
    "    print(\"Invalid Password \")\n"
   ]
  },
  {
   "cell_type": "code",
   "execution_count": 4,
   "id": "0643b63b",
   "metadata": {},
   "outputs": [
    {
     "name": "stdout",
     "output_type": "stream",
     "text": [
      "Enter age of Person A:5\n",
      "Enter age of Person B:61\n",
      "Enter age of Person C:15\n",
      "Person B is oldest\n",
      "Person A is youngest\n"
     ]
    }
   ],
   "source": [
    "fp=eval(input(\"Enter age of Person A:\"))\n",
    "\n",
    "#fp stands for Person A  \n",
    "\n",
    "sp=eval(input(\"Enter age of Person B:\"))\n",
    "\n",
    "#sp stands for Person B\n",
    "\n",
    "tp=eval(input(\"Enter age of Person C:\"))\n",
    "\n",
    "#tp stands for Person C\n",
    "\n",
    "if( fp <sp <tp):\n",
    "\n",
    "   print(\"Person A is youngest\")\n",
    "\n",
    "   print(\"Person C is oldest\")\n",
    "\n",
    "elif((fp > sp < tp)&(fp < tp )) :\n",
    "\n",
    "   print(\"Person B is youngest\")\n",
    "\n",
    "   print(\"Person C is oldest\")\n",
    "\n",
    "elif ((fp > sp < tp)&( fp > tp)):\n",
    "\n",
    "   print(\"Person B is youngest\")\n",
    "\n",
    "   print(\"Person A is oldest\")\n",
    "\n",
    "elif ((fp < sp > tp)&( fp > tp)):\n",
    "\n",
    "   print(\"Person B is oldest\")\n",
    "\n",
    "   print(\"Person C is youngest\")\n",
    "\n",
    "elif ((fp < sp > tp)&( tp > fp)):\n",
    "\n",
    "   print(\"Person B is oldest\")\n",
    "\n",
    "   print(\"Person A is youngest\")  \n",
    "\n",
    "else:\n",
    "\n",
    "   print(\"Person C is youngest\")\n",
    "\n",
    "   print(\"Person A is oldest\")"
   ]
  },
  {
   "cell_type": "code",
   "execution_count": 5,
   "id": "6fb8843e",
   "metadata": {},
   "outputs": [
    {
     "name": "stdout",
     "output_type": "stream",
     "text": [
      "Number of classes held:120\n",
      "Number of classes attended:95\n",
      "The student is allowed to sit in the exam hall\n"
     ]
    }
   ],
   "source": [
    "a=int(input(\"Number of classes held:\"))\n",
    "b=int(input(\"Number of classes attended:\"))\n",
    "percentage=b/a*100\n",
    "if percentage>=75:\n",
    "    print(\"The student is allowed to sit in the exam hall\")\n",
    "else: \n",
    "    \n",
    "    print(\"The student is not allowed to sit in the exam hall\")"
   ]
  },
  {
   "cell_type": "code",
   "execution_count": 9,
   "id": "141dbf0e",
   "metadata": {},
   "outputs": [
    {
     "name": "stdout",
     "output_type": "stream",
     "text": [
      "2\n",
      "Not Weird\n"
     ]
    }
   ],
   "source": [
    "n = int(input())\n",
    "if n % 2 == 1:\n",
    "    print(\"Weird\")\n",
    "elif n % 2 == 0 and 2 <= n <= 5:\n",
    "    print(\"Not Weird\")\n",
    "elif n % 2 == 0 and 6 <= n <= 20:\n",
    "    print(\"Weird\")\n",
    "else:\n",
    "    print(\"Not Weird\")        "
   ]
  },
  {
   "cell_type": "code",
   "execution_count": null,
   "id": "af4e0a05",
   "metadata": {},
   "outputs": [],
   "source": []
  }
 ],
 "metadata": {
  "kernelspec": {
   "display_name": "Python 3 (ipykernel)",
   "language": "python",
   "name": "python3"
  },
  "language_info": {
   "codemirror_mode": {
    "name": "ipython",
    "version": 3
   },
   "file_extension": ".py",
   "mimetype": "text/x-python",
   "name": "python",
   "nbconvert_exporter": "python",
   "pygments_lexer": "ipython3",
   "version": "3.9.13"
  }
 },
 "nbformat": 4,
 "nbformat_minor": 5
}
