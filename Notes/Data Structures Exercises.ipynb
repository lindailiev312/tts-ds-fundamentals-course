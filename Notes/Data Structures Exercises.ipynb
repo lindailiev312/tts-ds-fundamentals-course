{
 "cells": [
  {
   "cell_type": "code",
   "execution_count": 23,
   "id": "b164638f",
   "metadata": {},
   "outputs": [],
   "source": [
    "import math as math\n",
    "\n",
    "def solve_quadratic(a, b, c) :\n",
    "    dis - (b ** 2) - int(4 * a * c)\n",
    "    ans1 = (-b + (math.sqrt(d)))/(2 * a)\n",
    "    ans2 = (-b - (math.sqrt(d)))/(2 * a)\n",
    "    print (ans1, ans2)\n"
   ]
  },
  {
   "cell_type": "code",
   "execution_count": 25,
   "id": "c0f6dffc",
   "metadata": {},
   "outputs": [],
   "source": [
    "import math\n"
   ]
  },
  {
   "cell_type": "code",
   "execution_count": 31,
   "id": "e4eb9a7e",
   "metadata": {},
   "outputs": [
    {
     "ename": "SyntaxError",
     "evalue": "invalid syntax (914402679.py, line 2)",
     "output_type": "error",
     "traceback": [
      "\u001b[1;36m  File \u001b[1;32m\"C:\\Users\\13129\\AppData\\Local\\Temp\\ipykernel_24116\\914402679.py\"\u001b[1;36m, line \u001b[1;32m2\u001b[0m\n\u001b[1;33m    def equationroots (a, b, c)\u001b[0m\n\u001b[1;37m                               ^\u001b[0m\n\u001b[1;31mSyntaxError\u001b[0m\u001b[1;31m:\u001b[0m invalid syntax\n"
     ]
    }
   ],
   "source": [
    "import math as math\n",
    "def equationroots (a, b, c)\n",
    "dis = b * b -4 * a * c\n",
    "sqrt_val = math.sqrt (abs(dis))\n",
    "if dis > 0:\n",
    "    print((-b + (math.sqrt(d)))/(2 * a))\n",
    "    print((-b - (math.sqrt(d)))/(2 * a))\n",
    "elif dis == 0:\n",
    "    print(-b / 2 * a)\n",
    "else\n",
    "    print(-b / (2 * a)), \" + i\" , sqrt_val)\n",
    "    print(-b / (2 * a)), \" - i\" , sqrt_val)\n",
    "    \n",
    "a = 1\n",
    "b = -3\n",
    "c = 2\n",
    "\n",
    "if a == 0:\n",
    "    print(\"Input correct quadratic equation\")\n",
    "else:\n",
    "    equationroots(a, b, c)"
   ]
  },
  {
   "cell_type": "code",
   "execution_count": 1,
   "id": "359813f6",
   "metadata": {},
   "outputs": [
    {
     "name": "stdout",
     "output_type": "stream",
     "text": [
      "The solution are (-3+0j) and (-2+0j)\n"
     ]
    }
   ],
   "source": [
    "# Solve the quadratic equation ax**2 + bx + c = 0\n",
    "\n",
    "# import complex math module\n",
    "import cmath\n",
    "\n",
    "a = 1\n",
    "b = 5\n",
    "c = 6\n",
    "\n",
    "# calculate the discriminant\n",
    "d = (b**2) - (4*a*c)\n",
    "\n",
    "# find two solutions\n",
    "sol1 = (-b-cmath.sqrt(d))/(2*a)\n",
    "sol2 = (-b+cmath.sqrt(d))/(2*a)\n",
    "\n",
    "print('The solution are {0} and {1}'.format(sol1,sol2))"
   ]
  },
  {
   "cell_type": "code",
   "execution_count": 2,
   "id": "191d0348",
   "metadata": {},
   "outputs": [
    {
     "name": "stdout",
     "output_type": "stream",
     "text": [
      "The solution are (1+0j) and (2+0j)\n"
     ]
    }
   ],
   "source": [
    "# Solve the quadratic equation ax**2 + bx + c = 0\n",
    "\n",
    "# import complex math module\n",
    "import cmath\n",
    "\n",
    "a = 1\n",
    "b = -3\n",
    "c = 2\n",
    "\n",
    "# calculate the discriminant\n",
    "d = (b**2) - (4*a*c)\n",
    "\n",
    "# find two solutions\n",
    "sol1 = (-b-cmath.sqrt(d))/(2*a)\n",
    "sol2 = (-b+cmath.sqrt(d))/(2*a)\n",
    "\n",
    "print('The solution are {0} and {1}'.format(sol1,sol2))"
   ]
  },
  {
   "cell_type": "code",
   "execution_count": 3,
   "id": "38d63a7a",
   "metadata": {},
   "outputs": [
    {
     "name": "stdout",
     "output_type": "stream",
     "text": [
      "The roots are\n",
      "(-3.414213562373095+0j)\n",
      "(-0.5857864376269049+0j)\n"
     ]
    }
   ],
   "source": [
    "# import complex math module\n",
    "import cmath\n",
    "\n",
    "a = 1\n",
    "b = 4\n",
    "c = 2\n",
    "\n",
    "# calculating the discriminant\n",
    "dis = (b**2) - (4 * a*c)\n",
    "\n",
    "# find two results\n",
    "ans1 = (-b-cmath.sqrt(dis))/(2 * a)\n",
    "ans2 = (-b + cmath.sqrt(dis))/(2 * a)\n",
    "\n",
    "# printing the results\n",
    "print('The roots are')\n",
    "print(ans1)\n",
    "print(ans2)\n"
   ]
  },
  {
   "cell_type": "code",
   "execution_count": 4,
   "id": "b5e150a2",
   "metadata": {},
   "outputs": [
    {
     "name": "stdout",
     "output_type": "stream",
     "text": [
      "The roots are\n",
      "(1+0j)\n",
      "(2+0j)\n"
     ]
    }
   ],
   "source": [
    "# import complex math module\n",
    "import cmath\n",
    "\n",
    "a = 1\n",
    "b = -3\n",
    "c = 2\n",
    "\n",
    "# calculating the discriminant\n",
    "dis = (b**2) - (4 * a*c)\n",
    "\n",
    "# find two results\n",
    "ans1 = (-b-cmath.sqrt(dis))/(2 * a)\n",
    "ans2 = (-b + cmath.sqrt(dis))/(2 * a)\n",
    "\n",
    "# printing the results\n",
    "print('The roots are')\n",
    "print(ans1)\n",
    "print(ans2)\n"
   ]
  },
  {
   "cell_type": "code",
   "execution_count": 5,
   "id": "033a80c8",
   "metadata": {},
   "outputs": [
    {
     "name": "stdout",
     "output_type": "stream",
     "text": [
      " real and different roots \n",
      "2.0\n",
      "-12.0\n"
     ]
    }
   ],
   "source": [
    "# Python program to find roots of quadratic equation\n",
    "import math\n",
    "\n",
    "\n",
    "# function for finding roots\n",
    "def equationroots( a, b, c):\n",
    "\n",
    "\t# calculating discriminant using formula\n",
    "\tdis = b * b - 4 * a * c\n",
    "\tsqrt_val = math.sqrt(abs(dis))\n",
    "\t\n",
    "\t# checking condition for discriminant\n",
    "\tif dis > 0:\n",
    "\t\tprint(\" real and different roots \")\n",
    "\t\tprint((-b + sqrt_val)/(2 * a))\n",
    "\t\tprint((-b - sqrt_val)/(2 * a))\n",
    "\t\n",
    "\telif dis == 0:\n",
    "\t\tprint(\" real and same roots\")\n",
    "\t\tprint(-b / (2 * a))\n",
    "\t\n",
    "\t# when discriminant is less than 0\n",
    "\telse:\n",
    "\t\tprint(\"Complex Roots\")\n",
    "\t\tprint(- b / (2 * a), \" + i\", sqrt_val)\n",
    "\t\tprint(- b / (2 * a), \" - i\", sqrt_val)\n",
    "\n",
    "# Driver Program\n",
    "a = 1\n",
    "b = 10\n",
    "c = -24\n",
    "\n",
    "# If a is 0, then incorrect equation\n",
    "if a == 0:\n",
    "\t\tprint(\"Input correct quadratic equation\")\n",
    "\n",
    "else:\n",
    "\tequationroots(a, b, c)\n"
   ]
  },
  {
   "cell_type": "code",
   "execution_count": 6,
   "id": "be4edcf8",
   "metadata": {},
   "outputs": [
    {
     "name": "stdout",
     "output_type": "stream",
     "text": [
      " real and different roots \n",
      "2.0\n",
      "1.0\n"
     ]
    }
   ],
   "source": [
    "# Python program to find roots of quadratic equation\n",
    "import math\n",
    "\n",
    "\n",
    "# function for finding roots\n",
    "def equationroots( a, b, c):\n",
    "\n",
    "\t# calculating discriminant using formula\n",
    "\tdis = b * b - 4 * a * c\n",
    "\tsqrt_val = math.sqrt(abs(dis))\n",
    "\t\n",
    "\t# checking condition for discriminant\n",
    "\tif dis > 0:\n",
    "\t\tprint(\" real and different roots \")\n",
    "\t\tprint((-b + sqrt_val)/(2 * a))\n",
    "\t\tprint((-b - sqrt_val)/(2 * a))\n",
    "\t\n",
    "\telif dis == 0:\n",
    "\t\tprint(\" real and same roots\")\n",
    "\t\tprint(-b / (2 * a))\n",
    "\t\n",
    "\t# when discriminant is less than 0\n",
    "\telse:\n",
    "\t\tprint(\"Complex Roots\")\n",
    "\t\tprint(- b / (2 * a), \" + i\", sqrt_val)\n",
    "\t\tprint(- b / (2 * a), \" - i\", sqrt_val)\n",
    "\n",
    "# Driver Program\n",
    "a = 1\n",
    "b = -3\n",
    "c = 2\n",
    "\n",
    "# If a is 0, then incorrect equation\n",
    "if a == 0:\n",
    "\t\tprint(\"Input correct quadratic equation\")\n",
    "\n",
    "else:\n",
    "\tequationroots(a, b, c)\n"
   ]
  },
  {
   "cell_type": "code",
   "execution_count": 9,
   "id": "31db620a",
   "metadata": {},
   "outputs": [
    {
     "ename": "IndentationError",
     "evalue": "expected an indented block (2561137125.py, line 13)",
     "output_type": "error",
     "traceback": [
      "\u001b[1;36m  File \u001b[1;32m\"C:\\Users\\13129\\AppData\\Local\\Temp\\ipykernel_17116\\2561137125.py\"\u001b[1;36m, line \u001b[1;32m13\u001b[0m\n\u001b[1;33m    print(\" real and different roots \")\u001b[0m\n\u001b[1;37m    ^\u001b[0m\n\u001b[1;31mIndentationError\u001b[0m\u001b[1;31m:\u001b[0m expected an indented block\n"
     ]
    }
   ],
   "source": [
    "\n",
    "import math\n",
    "\n",
    "\n",
    "# function for finding roots\n",
    "def equationroots( a, b, c):\n",
    "\n",
    "# calculating discriminant using formula\n",
    "    dis = b * b - 4 * a * c\n",
    "    sqrt_val = math.sqrt(abs(dis))\n",
    "\n",
    "# checking condition for discriminant\n",
    "    if dis > 0:\n",
    "    print(\" real and different roots \")\n",
    "    print((-b + sqrt_val)/(2 * a))\n",
    "    print((-b - sqrt_val)/(2 * a))\n",
    "\n",
    "    elif dis == 0:\n",
    "    print(\" real and same roots\")\n",
    "    print(-b / (2 * a))\n",
    "\n",
    "# when discriminant is less than 0\n",
    "    else:\n",
    "    print(\"Complex Roots\")\n",
    "    print(- b / (2 * a), \" + i\", sqrt_val)\n",
    "    print(- b / (2 * a), \" - i\", sqrt_val)\n",
    "\n",
    "# Driver Program\n",
    "a = 1\n",
    "b = -3\n",
    "c = 2\n",
    "\n",
    "# If a is 0, then incorrect equation\n",
    "if a == 0:\n",
    "print(\"Input correct quadratic equation\")\n",
    "\n",
    "else:\n",
    "equationroots(a, b, c)\n"
   ]
  },
  {
   "cell_type": "code",
   "execution_count": null,
   "id": "d0515f34",
   "metadata": {},
   "outputs": [],
   "source": [
    "# Python program to find roots of quadratic equation\n",
    "import math\n",
    "\n",
    "\n",
    "# function for finding roots\n",
    "def equationroots( a, b, c):\n",
    "\n",
    "\t# calculating discriminant using formula\n",
    "\tdis = b * b - 4 * a * c\n",
    "\tsq_val = math.sqrt(abs(dis))\n",
    "\t\n",
    "\t# checking condition for discriminant\n",
    "\tif dis > 0:\n",
    "\t\tprint(\" real and different roots \")\n",
    "\t\tprint((-b + sqrt_val)/(2 * a))\n",
    "\t\tprint((-b - sqrt_val)/(2 * a))\n",
    "\t\n",
    "\telif dis == 0:\n",
    "\t\tprint(\" real and same roots\")\n",
    "\t\tprint(-b / (2 * a))\n",
    "\t\n",
    "\t# when discriminant is less than 0\n",
    "\telse:\n",
    "\t\tprint(\"Complex Roots\")\n",
    "\t\tprint(- b / (2 * a), \" + i\", sqrt_val)\n",
    "\t\tprint(- b / (2 * a), \" - i\", sqrt_val)\n",
    "\n",
    "# Driver Program\n",
    "a = 1\n",
    "b = -3\n",
    "c = 2\n",
    "\n",
    "# If a is 0, then incorrect equation\n",
    "if a == 0:\n",
    "\t\tprint(\"Input correct quadratic equation\")\n",
    "\n",
    "else:\n",
    "\tequationroots(a, b, c)\n"
   ]
  },
  {
   "cell_type": "code",
   "execution_count": 11,
   "id": "ffeb92ce",
   "metadata": {},
   "outputs": [
    {
     "name": "stdout",
     "output_type": "stream",
     "text": [
      " real and different roots \n",
      "2.0\n",
      "1.0\n"
     ]
    }
   ],
   "source": [
    "# Python program to find roots of quadratic equation\n",
    "import math\n",
    "\n",
    "\n",
    "# function for finding roots\n",
    "def equationroots( a, b, c):\n",
    "\n",
    "# calculating discriminant using formula\n",
    "    dis = b * b - 4 * a * c\n",
    "    sqrt_val = math.sqrt(abs(dis))\n",
    "\n",
    "# checking condition for discriminant\n",
    "    if dis > 0:\n",
    "        print(\" real and different roots \")\n",
    "        print((-b + sqrt_val)/(2 * a))\n",
    "        print((-b - sqrt_val)/(2 * a))\n",
    "\n",
    "    elif dis == 0:\n",
    "        print(\" real and same roots\")\n",
    "        print(-b / (2 * a))\n",
    "    \n",
    " # when discriminant is less than 0\n",
    "    else:\n",
    "        print(\"Complex Roots\")\n",
    "        print(- b / (2 * a), \" + i\", sqrt_val)\n",
    "        print(- b / (2 * a), \" - i\", sqrt_val)\n",
    "\n",
    "# Driver Program\n",
    "a = 1\n",
    "b = -3\n",
    "c = 2\n",
    "\n",
    "# If a is 0, then incorrect equation\n",
    "if a == 0:\n",
    "        print(\"Input correct quadratic equation\")\n",
    "\n",
    "else:\n",
    "    equationroots(a, b, c)\n"
   ]
  },
  {
   "cell_type": "code",
   "execution_count": 12,
   "id": "02bcf372",
   "metadata": {},
   "outputs": [
    {
     "name": "stdout",
     "output_type": "stream",
     "text": [
      "2.0\n",
      "1.0\n"
     ]
    }
   ],
   "source": [
    "# Python program to find roots of quadratic equation\n",
    "import math\n",
    "\n",
    "\n",
    "# function for finding roots\n",
    "def equationroots( a, b, c):\n",
    "\n",
    "# calculating discriminant using formula\n",
    "    dis = b * b - 4 * a * c\n",
    "    sqrt_val = math.sqrt(abs(dis))\n",
    "\n",
    "# checking condition for discriminant\n",
    "    if dis > 0:\n",
    "        \n",
    "        print((-b + sqrt_val)/(2 * a))\n",
    "        print((-b - sqrt_val)/(2 * a))\n",
    "\n",
    "    elif dis == 0:\n",
    "        \n",
    "        print(-b / (2 * a))\n",
    "    \n",
    " # when discriminant is less than 0\n",
    "    else:\n",
    "        \n",
    "        print(- b / (2 * a), \" + i\", sqrt_val)\n",
    "        print(- b / (2 * a), \" - i\", sqrt_val)\n",
    "\n",
    "# Driver Program\n",
    "a = 1\n",
    "b = -3\n",
    "c = 2\n",
    "\n",
    "# If a is 0, then incorrect equation\n",
    "if a == 0:\n",
    "        print(\"Input correct quadratic equation\")\n",
    "\n",
    "else:\n",
    "    equationroots(a, b, c)\n"
   ]
  },
  {
   "cell_type": "code",
   "execution_count": 14,
   "id": "4988c1f0",
   "metadata": {},
   "outputs": [
    {
     "name": "stdout",
     "output_type": "stream",
     "text": [
      "2.0\n",
      "1.0\n"
     ]
    }
   ],
   "source": [
    "# Python program to find roots of quadratic equation\n",
    "import math\n",
    "\n",
    "\n",
    "# function for finding roots\n",
    "def equationroots( a, b, c):\n",
    "\n",
    "# calculating discriminant using formula\n",
    "    dis = b * b - 4 * a * c\n",
    "    sqrt_val = math.sqrt(abs(dis))\n",
    "\n",
    "# checking condition for discriminant\n",
    "    if dis > 0:\n",
    "        \n",
    "        print((-b + sqrt_val)/(2 * a))\n",
    "        print((-b - sqrt_val)/(2 * a))\n",
    "\n",
    "   \n",
    "\n",
    "a = 1\n",
    "b = -3\n",
    "c = 2\n",
    "\n",
    "# If a is 0, then incorrect equation\n",
    "if a == 0:\n",
    "        print(\"Input correct quadratic equation\")\n",
    "\n",
    "else:\n",
    "    equationroots(a, b, c)\n"
   ]
  },
  {
   "cell_type": "code",
   "execution_count": 15,
   "id": "86359f2c",
   "metadata": {},
   "outputs": [
    {
     "name": "stdout",
     "output_type": "stream",
     "text": [
      "2.0\n",
      "1.0\n"
     ]
    }
   ],
   "source": [
    "# Python program to find roots of quadratic equation\n",
    "import math\n",
    "\n",
    "\n",
    "# function for finding roots\n",
    "def equationroots( a, b, c):\n",
    "\n",
    "# calculating discriminant using formula\n",
    "    dis = b * b - 4 * a * c\n",
    "    sqrt_val = math.sqrt(abs(dis))\n",
    "\n",
    "# checking condition for discriminant\n",
    "    if dis > 0:\n",
    "        \n",
    "        print((-b + sqrt_val)/(2 * a))\n",
    "        print((-b - sqrt_val)/(2 * a))\n",
    "\n",
    "a = 1\n",
    "b = -3\n",
    "c = 2\n",
    "\n",
    "# If a is 0, then incorrect equation\n",
    "if a == 0:\n",
    "        print(\"Input correct quadratic equation\")\n",
    "\n",
    "else:\n",
    "    equationroots(a, b, c)\n"
   ]
  },
  {
   "cell_type": "code",
   "execution_count": 19,
   "id": "e3b2dbf2",
   "metadata": {},
   "outputs": [],
   "source": [
    "# Python program to find roots of quadratic equation\n",
    "import math\n",
    "\n",
    "\n",
    "# function for finding roots\n",
    "def equationroots( a, b, c):\n",
    "\n",
    "# calculating discriminant using formula\n",
    "    dis = b * b - 4 * a * c\n",
    "    sqrt_val = math.sqrt(abs(dis))\n",
    "\n",
    "# checking condition for discriminant\n",
    "    if dis > 0:\n",
    "        \n",
    "        print((-b + sqrt_val)/(2 * a))\n",
    "        print((-b - sqrt_val)/(2 * a))\n",
    "\n",
    "a = 1\n",
    "b = -3\n",
    "c = 2\n",
    "\n",
    "# If a is 0, then incorrect equation\n",
    "if a == 0:\n",
    "        print(\"Input correct quadratic equation\")"
   ]
  },
  {
   "cell_type": "code",
   "execution_count": null,
   "id": "a3fa2161",
   "metadata": {},
   "outputs": [],
   "source": []
  }
 ],
 "metadata": {
  "kernelspec": {
   "display_name": "Python 3 (ipykernel)",
   "language": "python",
   "name": "python3"
  },
  "language_info": {
   "codemirror_mode": {
    "name": "ipython",
    "version": 3
   },
   "file_extension": ".py",
   "mimetype": "text/x-python",
   "name": "python",
   "nbconvert_exporter": "python",
   "pygments_lexer": "ipython3",
   "version": "3.9.13"
  }
 },
 "nbformat": 4,
 "nbformat_minor": 5
}
