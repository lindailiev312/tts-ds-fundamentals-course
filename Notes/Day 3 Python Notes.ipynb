{
 "cells": [
  {
   "cell_type": "code",
   "execution_count": null,
   "id": "8dcc2582",
   "metadata": {},
   "outputs": [],
   "source": [
    "#Control Flow"
   ]
  },
  {
   "cell_type": "code",
   "execution_count": 11,
   "id": "acb290c0",
   "metadata": {},
   "outputs": [
    {
     "name": "stdout",
     "output_type": "stream",
     "text": [
      "Var_1 and Var_2 are equal\n"
     ]
    }
   ],
   "source": [
    "var_1 = 45\n",
    "var_2 = 45\n",
    "#if statement only execute the underlying code if the statement is true\n",
    "if var_1 > var_2:\n",
    "    print(\"Var_1 is greater than Var_2\")\n",
    "elif var_2 > var_1:\n",
    "    print(\"Var_2 is greater than Var_1\")\n",
    "else:\n",
    "    print(\"Var_1 and Var_2 are equal\")"
   ]
  },
  {
   "cell_type": "code",
   "execution_count": 12,
   "id": "b8c9f9aa",
   "metadata": {},
   "outputs": [],
   "source": [
    "x = var_1 > var_2"
   ]
  },
  {
   "cell_type": "code",
   "execution_count": 13,
   "id": "0d3606f6",
   "metadata": {},
   "outputs": [
    {
     "data": {
      "text/plain": [
       "False"
      ]
     },
     "execution_count": 13,
     "metadata": {},
     "output_type": "execute_result"
    }
   ],
   "source": [
    "var_1 > var_2"
   ]
  },
  {
   "cell_type": "code",
   "execution_count": 14,
   "id": "e735cb4e",
   "metadata": {},
   "outputs": [
    {
     "data": {
      "text/plain": [
       "bool"
      ]
     },
     "execution_count": 14,
     "metadata": {},
     "output_type": "execute_result"
    }
   ],
   "source": [
    "type(x)"
   ]
  },
  {
   "cell_type": "code",
   "execution_count": 20,
   "id": "85c523f3",
   "metadata": {},
   "outputs": [
    {
     "name": "stdout",
     "output_type": "stream",
     "text": [
      "2\n"
     ]
    }
   ],
   "source": [
    "#4 Built-in Python Data Structure\n",
    "#List\n",
    "index_ex = [0, 1, 2, 3]\n",
    "my_list = [\"x\", \"y\", \"z\"]\n",
    "int_list =[1,2,3,4,5]\n",
    "float_list = [1.1, 2.2, 2.3]\n",
    "mix_list = [\"x\", 1, True, 3.14]\n",
    "#indexing\n",
    "#index notation\n",
    "print(index_ex[-2])"
   ]
  },
  {
   "cell_type": "code",
   "execution_count": 40,
   "id": "5c46a0b0",
   "metadata": {},
   "outputs": [
    {
     "name": "stdout",
     "output_type": "stream",
     "text": [
      "[2, 3]\n"
     ]
    }
   ],
   "source": [
    "int_list =[1,2,3,4,5]\n",
    "#slicing\n",
    "#The first number is inclusive\n",
    "#The second number is index exclusive - We go up to but, not including the second index\n",
    "#print(int_list[0:2])  - prints [1,2]\n",
    "print(int_list[1:3])"
   ]
  },
  {
   "cell_type": "code",
   "execution_count": 42,
   "id": "e9e03343",
   "metadata": {},
   "outputs": [
    {
     "ename": "NameError",
     "evalue": "name 'int_listp' is not defined",
     "output_type": "error",
     "traceback": [
      "\u001b[1;31m---------------------------------------------------------------------------\u001b[0m",
      "\u001b[1;31mNameError\u001b[0m                                 Traceback (most recent call last)",
      "\u001b[1;32m~\\AppData\\Local\\Temp\\ipykernel_5412\\1769283.py\u001b[0m in \u001b[0;36m<module>\u001b[1;34m\u001b[0m\n\u001b[0;32m      3\u001b[0m \u001b[0mi\u001b[0m \u001b[1;33m=\u001b[0m \u001b[1;36m0\u001b[0m\u001b[1;33m\u001b[0m\u001b[1;33m\u001b[0m\u001b[0m\n\u001b[0;32m      4\u001b[0m \u001b[1;32mwhile\u001b[0m \u001b[0mi\u001b[0m \u001b[1;33m<\u001b[0m \u001b[0mlen\u001b[0m\u001b[1;33m(\u001b[0m\u001b[0mint_list\u001b[0m\u001b[1;33m)\u001b[0m\u001b[1;33m:\u001b[0m\u001b[1;33m\u001b[0m\u001b[1;33m\u001b[0m\u001b[0m\n\u001b[1;32m----> 5\u001b[1;33m     \u001b[0mprint\u001b[0m \u001b[1;33m(\u001b[0m\u001b[0mint_listp\u001b[0m\u001b[1;33m[\u001b[0m\u001b[0mi\u001b[0m\u001b[1;33m]\u001b[0m\u001b[1;33m)\u001b[0m\u001b[1;33m\u001b[0m\u001b[1;33m\u001b[0m\u001b[0m\n\u001b[0m",
      "\u001b[1;31mNameError\u001b[0m: name 'int_listp' is not defined"
     ]
    }
   ],
   "source": [
    "#While loop example\n",
    "\n",
    "i = 0\n",
    "while i < len(int_list):\n",
    "    print (int_listp[i])\n",
    "    1 += 1"
   ]
  },
  {
   "cell_type": "code",
   "execution_count": 38,
   "id": "9d31904b",
   "metadata": {},
   "outputs": [
    {
     "ename": "SyntaxError",
     "evalue": "invalid syntax (2076917757.py, line 3)",
     "output_type": "error",
     "traceback": [
      "\u001b[1;36m  File \u001b[1;32m\"C:\\Users\\13129\\AppData\\Local\\Temp\\ipykernel_5412\\2076917757.py\"\u001b[1;36m, line \u001b[1;32m3\u001b[0m\n\u001b[1;33m    my tuple[0] = 44\u001b[0m\n\u001b[1;37m       ^\u001b[0m\n\u001b[1;31mSyntaxError\u001b[0m\u001b[1;31m:\u001b[0m invalid syntax\n"
     ]
    }
   ],
   "source": [
    "#Tuple\n",
    "my_tuple = (1, 2, 3, 4)\n",
    "my tuple[0] = 44"
   ]
  },
  {
   "cell_type": "code",
   "execution_count": 25,
   "id": "5e24946d",
   "metadata": {},
   "outputs": [
    {
     "name": "stdout",
     "output_type": "stream",
     "text": [
      "1\n",
      "2\n",
      "i is equal to 3\n",
      "3\n",
      "4\n"
     ]
    }
   ],
   "source": [
    "#Set\n",
    "my_set = {1, 2, 3, 4}\n",
    "#print (my_set)\n",
    "\n",
    "#for loops are made to iterate over data structure\n",
    "for i in my_set:\n",
    "    if i == 3:\n",
    "        print(\"i is equal to 3\")\n",
    "    print(i)"
   ]
  },
  {
   "cell_type": "code",
   "execution_count": 32,
   "id": "693880fe",
   "metadata": {},
   "outputs": [],
   "source": [
    "#Dictionary\n",
    "#Key Value Pairs\n",
    "my_dictionary = {\"One\" : 1, \"Two\" : 2, \"Three\" : 3, \"Four\" : 4}"
   ]
  },
  {
   "cell_type": "code",
   "execution_count": 37,
   "id": "ff0294cd",
   "metadata": {},
   "outputs": [
    {
     "data": {
      "text/plain": [
       "22"
      ]
     },
     "execution_count": 37,
     "metadata": {},
     "output_type": "execute_result"
    }
   ],
   "source": [
    "my_dictionary[\"Two\"]"
   ]
  },
  {
   "cell_type": "code",
   "execution_count": null,
   "id": "ab708907",
   "metadata": {},
   "outputs": [],
   "source": []
  }
 ],
 "metadata": {
  "kernelspec": {
   "display_name": "Python 3 (ipykernel)",
   "language": "python",
   "name": "python3"
  },
  "language_info": {
   "codemirror_mode": {
    "name": "ipython",
    "version": 3
   },
   "file_extension": ".py",
   "mimetype": "text/x-python",
   "name": "python",
   "nbconvert_exporter": "python",
   "pygments_lexer": "ipython3",
   "version": "3.9.13"
  }
 },
 "nbformat": 4,
 "nbformat_minor": 5
}
