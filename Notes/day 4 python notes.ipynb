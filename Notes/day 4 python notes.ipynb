{
 "cells": [
  {
   "cell_type": "code",
   "execution_count": 4,
   "id": "bd3ff696",
   "metadata": {},
   "outputs": [],
   "source": [
    "#variables recap\n",
    "#Data Types recap\n",
    "x = 51\n",
    "my_string = \"This is a string\"\n",
    "\"\"\" Multi-line comment\"\"\"\n",
    "my_float = 5.1\n",
    "my_boolean = True\n",
    "my_boolean_two = False"
   ]
  },
  {
   "cell_type": "code",
   "execution_count": 5,
   "id": "6addec24",
   "metadata": {},
   "outputs": [],
   "source": [
    "#String Concatenation\n",
    "string_one = \"Hello\"\n",
    "string_two = \"World\"\n",
    "exclamation = \"!\"\n",
    "hello_contact = string_one + string_two + exclamation\n",
    "#print(string_one + string_two + exclamation)"
   ]
  },
  {
   "cell_type": "code",
   "execution_count": null,
   "id": "a1619267",
   "metadata": {},
   "outputs": [],
   "source": [
    "print()"
   ]
  }
 ],
 "metadata": {
  "kernelspec": {
   "display_name": "Python 3 (ipykernel)",
   "language": "python",
   "name": "python3"
  },
  "language_info": {
   "codemirror_mode": {
    "name": "ipython",
    "version": 3
   },
   "file_extension": ".py",
   "mimetype": "text/x-python",
   "name": "python",
   "nbconvert_exporter": "python",
   "pygments_lexer": "ipython3",
   "version": "3.9.13"
  }
 },
 "nbformat": 4,
 "nbformat_minor": 5
}
