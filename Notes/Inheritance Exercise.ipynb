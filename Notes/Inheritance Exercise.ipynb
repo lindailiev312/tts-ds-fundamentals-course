{
 "cells": [
  {
   "cell_type": "code",
   "execution_count": 1,
   "id": "fb3b1f32",
   "metadata": {},
   "outputs": [
    {
     "name": "stdout",
     "output_type": "stream",
     "text": [
      "linda iliev 15246622\n",
      "3\n",
      "80 90 78\n",
      "Name: iliev, linda\n",
      "ID: 15246622\n",
      "Grade: B\n"
     ]
    }
   ],
   "source": [
    "class Person:\n",
    "    def __init__(self, firstName, lastName, idNumber):\n",
    "        self.firstName = firstName\n",
    "        self.lastName = lastName\n",
    "        self.idNumber = idNumber\n",
    "    def printPerson(self):\n",
    "        print(\"Name:\", self.lastName + \",\", self.firstName)\n",
    "        print(\"ID:\", self.idNumber)\n",
    "class Student(Person):\n",
    "    def __init__(self, firstName, lastName, idNumber, testScores):\n",
    "        super().__init__(firstName, lastName, idNumber)\n",
    "        self.testScores = testScores\n",
    "\n",
    "    def calculate(self):\n",
    "        total = 0\n",
    "\n",
    "        for testScore in self.testScores:\n",
    "            total += testScore\n",
    "\n",
    "        avg = total / len(self.testScores)\n",
    "\n",
    "        if 90 <= avg <= 100:\n",
    "            return 'A'\n",
    "        if 80 <= avg < 90:\n",
    "            return 'B'\n",
    "        if 70 <= avg < 80:\n",
    "            return 'C'\n",
    "        if 55 <= avg < 70:\n",
    "            return 'D'\n",
    "        if 40 <= avg < 55:\n",
    "            return 'F'\n",
    "        return 'T'\n",
    "line = input().split()\n",
    "firstName = line[0]\n",
    "lastName = line[1]\n",
    "idNum = line[2]\n",
    "numScores = int(input()) # not needed for Python\n",
    "scores = list( map(int, input().split()) )\n",
    "s = Student(firstName, lastName, idNum, scores)\n",
    "s.printPerson()\n",
    "print(\"Grade:\", s.calculate())"
   ]
  },
  {
   "cell_type": "code",
   "execution_count": null,
   "id": "186215f9",
   "metadata": {},
   "outputs": [],
   "source": []
  }
 ],
 "metadata": {
  "kernelspec": {
   "display_name": "Python 3 (ipykernel)",
   "language": "python",
   "name": "python3"
  },
  "language_info": {
   "codemirror_mode": {
    "name": "ipython",
    "version": 3
   },
   "file_extension": ".py",
   "mimetype": "text/x-python",
   "name": "python",
   "nbconvert_exporter": "python",
   "pygments_lexer": "ipython3",
   "version": "3.9.13"
  }
 },
 "nbformat": 4,
 "nbformat_minor": 5
}
