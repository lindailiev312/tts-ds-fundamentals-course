{
 "cells": [
  {
   "cell_type": "markdown",
   "id": "1992d2b5",
   "metadata": {},
   "source": [
    "##12/15/2022\n",
    "\n",
    "#Project 15\n",
    "\n",
    "#This is Mark down"
   ]
  },
  {
   "cell_type": "code",
   "execution_count": 6,
   "id": "28ce5bb7",
   "metadata": {},
   "outputs": [],
   "source": [
    "#Variable Setting"
   ]
  },
  {
   "cell_type": "code",
   "execution_count": 7,
   "id": "da82109c",
   "metadata": {},
   "outputs": [
    {
     "name": "stdout",
     "output_type": "stream",
     "text": [
      "Hello World!\n"
     ]
    }
   ],
   "source": [
    "print(\"Hello World!\")\n"
   ]
  },
  {
   "cell_type": "code",
   "execution_count": null,
   "id": "ab596775",
   "metadata": {},
   "outputs": [],
   "source": [
    "#Python is a dynamically typed programming language - Not stragically typed."
   ]
  },
  {
   "cell_type": "code",
   "execution_count": 4,
   "id": "54bf0282",
   "metadata": {},
   "outputs": [],
   "source": [
    "#Data Types\n",
    "my_bool = True\n",
    "my_bool_two = False\n",
    "my_int = 55 #integer which is whole number\n",
    "my_float = 4.3 #decimal\n",
    "My_string = \"Hello World!\"\n",
    "another_string = 'Hello World!'\n",
    "yet_another_string = \"\"\"Hello World!\"\"\""
   ]
  },
  {
   "cell_type": "code",
   "execution_count": 5,
   "id": "8ed221c6",
   "metadata": {},
   "outputs": [],
   "source": [
    "another_string = 45"
   ]
  },
  {
   "cell_type": "code",
   "execution_count": 8,
   "id": "4398def6",
   "metadata": {},
   "outputs": [
    {
     "data": {
      "text/plain": [
       "int"
      ]
     },
     "execution_count": 8,
     "metadata": {},
     "output_type": "execute_result"
    }
   ],
   "source": [
    "#how to check data type\n",
    "type(another_string)"
   ]
  },
  {
   "cell_type": "code",
   "execution_count": 11,
   "id": "bbbdd347",
   "metadata": {},
   "outputs": [],
   "source": [
    "#Variable\n",
    "#A python variable must start with a underscore or letter\n",
    "_my_var = 55"
   ]
  },
  {
   "cell_type": "code",
   "execution_count": 12,
   "id": "07208480",
   "metadata": {},
   "outputs": [
    {
     "name": "stdout",
     "output_type": "stream",
     "text": [
      "55\n"
     ]
    }
   ],
   "source": [
    "print(_my_var)"
   ]
  },
  {
   "cell_type": "code",
   "execution_count": 14,
   "id": "5f2b214d",
   "metadata": {},
   "outputs": [],
   "source": [
    "#Math in Python\n",
    "#Pemdas\n",
    "#Please Excude my dear aunt Sallie\n",
    "x = 4\n",
    "y = 5"
   ]
  },
  {
   "cell_type": "code",
   "execution_count": 15,
   "id": "fb833a05",
   "metadata": {},
   "outputs": [
    {
     "name": "stdout",
     "output_type": "stream",
     "text": [
      "9\n"
     ]
    }
   ],
   "source": [
    "print(x+y) #addition\n"
   ]
  },
  {
   "cell_type": "code",
   "execution_count": 18,
   "id": "0f49556f",
   "metadata": {},
   "outputs": [
    {
     "name": "stdout",
     "output_type": "stream",
     "text": [
      "0.8\n"
     ]
    }
   ],
   "source": [
    "print (x/y) #division"
   ]
  },
  {
   "cell_type": "code",
   "execution_count": 21,
   "id": "dc42ef86",
   "metadata": {},
   "outputs": [
    {
     "data": {
      "text/plain": [
       "0"
      ]
     },
     "execution_count": 21,
     "metadata": {},
     "output_type": "execute_result"
    }
   ],
   "source": [
    "#floor division -floor division \"floors my floating point value\" - In other words\n",
    "x // y"
   ]
  },
  {
   "cell_type": "code",
   "execution_count": 20,
   "id": "3e042650",
   "metadata": {},
   "outputs": [
    {
     "name": "stdout",
     "output_type": "stream",
     "text": [
      "20\n"
     ]
    }
   ],
   "source": [
    "#multiplication\n",
    "\n",
    "print(x*y)"
   ]
  },
  {
   "cell_type": "code",
   "execution_count": 11,
   "id": "1c201a3c",
   "metadata": {},
   "outputs": [],
   "source": [
    "#Conditional Evaluation\n",
    "# x > y - x is greater than y\n",
    "\n",
    "# x < y - x is less than y\n",
    "# x >= y - x is greater than or equal to y\n",
    "# x <= y -x is less than or equal to y\n",
    "# x=1 y - x is not equal to y\n",
    "# x ==y - x is not equal to y"
   ]
  },
  {
   "cell_type": "code",
   "execution_count": null,
   "id": "7ebad1c9",
   "metadata": {},
   "outputs": [],
   "source": [
    "if x > y:\n",
    "    print (\"Execute this\")\n",
    "elif x < y:\n",
    "    print (\"Execute this\")\n",
    "else\n",
    "    print (\"Do this\")"
   ]
  },
  {
   "cell_type": "code",
   "execution_count": null,
   "id": "5a135829",
   "metadata": {},
   "outputs": [],
   "source": [
    "#Data Structure\n"
   ]
  },
  {
   "cell_type": "code",
   "execution_count": 23,
   "id": "1b98cf07",
   "metadata": {},
   "outputs": [
    {
     "name": "stdout",
     "output_type": "stream",
     "text": [
      "Enter a number between 1 and 5=3\n"
     ]
    }
   ],
   "source": [
    "#input function. the input function takes input from the user. The input function always return a string data type.\n",
    "input_example = input (\"Enter a number between 1 and 5\")"
   ]
  },
  {
   "cell_type": "code",
   "execution_count": 26,
   "id": "ef850a13",
   "metadata": {},
   "outputs": [
    {
     "name": "stdout",
     "output_type": "stream",
     "text": [
      "=3\n"
     ]
    }
   ],
   "source": [
    "print(input_example)\n"
   ]
  },
  {
   "cell_type": "code",
   "execution_count": 27,
   "id": "60d61e80",
   "metadata": {},
   "outputs": [
    {
     "data": {
      "text/plain": [
       "str"
      ]
     },
     "execution_count": 27,
     "metadata": {},
     "output_type": "execute_result"
    }
   ],
   "source": [
    "type(input_example)"
   ]
  },
  {
   "cell_type": "code",
   "execution_count": 28,
   "id": "b6656759",
   "metadata": {},
   "outputs": [
    {
     "name": "stdout",
     "output_type": "stream",
     "text": [
      "=3\n"
     ]
    }
   ],
   "source": [
    "print (input_example)"
   ]
  },
  {
   "cell_type": "code",
   "execution_count": 31,
   "id": "15414d29",
   "metadata": {},
   "outputs": [],
   "source": [
    "input_example = input\n"
   ]
  },
  {
   "cell_type": "code",
   "execution_count": null,
   "id": "6825b700",
   "metadata": {},
   "outputs": [],
   "source": [
    "#Functions\n",
    "#Reusable Pieces of Code that carry out a specific task. \n",
    "#Like Math functions -> Consistent output based on input.\n",
    "#Single responsibility Principle - Every function should accomplish one task\n",
    "\n",
    "#Syntax for defining a function def name_of_the_function(parameter_1, parameter_2):\n",
    "#          #code to carry out\n"
   ]
  },
  {
   "cell_type": "code",
   "execution_count": 4,
   "id": "3cb37e23",
   "metadata": {},
   "outputs": [],
   "source": [
    "#Inside of a function's parentheses are the parameters\n",
    "#When we define a function these are\n",
    "def adds_two_things_together(x, y):\n",
    "    print(x + y)"
   ]
  },
  {
   "cell_type": "code",
   "execution_count": 5,
   "id": "56021654",
   "metadata": {},
   "outputs": [
    {
     "name": "stdout",
     "output_type": "stream",
     "text": [
      "193\n"
     ]
    }
   ],
   "source": [
    "#Function Call\n",
    "#Syntax for calling a function - name_of_the_function(argument_1, argument_2)\n",
    "adds_two_things_together(55, 138)\n"
   ]
  },
  {
   "cell_type": "code",
   "execution_count": 22,
   "id": "c47f346c",
   "metadata": {},
   "outputs": [
    {
     "ename": "NameError",
     "evalue": "name 'adds_two_things_toether' is not defined",
     "output_type": "error",
     "traceback": [
      "\u001b[1;31m---------------------------------------------------------------------------\u001b[0m",
      "\u001b[1;31mNameError\u001b[0m                                 Traceback (most recent call last)",
      "\u001b[1;32m~\\AppData\\Local\\Temp\\ipykernel_13424\\1041268379.py\u001b[0m in \u001b[0;36m<module>\u001b[1;34m\u001b[0m\n\u001b[1;32m----> 1\u001b[1;33m \u001b[0madds_two_things_toether\u001b[0m\u001b[1;33m(\u001b[0m\u001b[1;34m\"Hello  \"\u001b[0m\u001b[1;33m,\u001b[0m \u001b[1;34m\"World!\"\u001b[0m\u001b[1;33m)\u001b[0m\u001b[1;33m\u001b[0m\u001b[1;33m\u001b[0m\u001b[0m\n\u001b[0m",
      "\u001b[1;31mNameError\u001b[0m: name 'adds_two_things_toether' is not defined"
     ]
    }
   ],
   "source": [
    "adds_two_things_toether(\"Hello  \", \"World!\")"
   ]
  },
  {
   "cell_type": "code",
   "execution_count": 18,
   "id": "5aecba51",
   "metadata": {},
   "outputs": [
    {
     "ename": "NameError",
     "evalue": "name 'no_arguments_function' is not defined",
     "output_type": "error",
     "traceback": [
      "\u001b[1;31m---------------------------------------------------------------------------\u001b[0m",
      "\u001b[1;31mNameError\u001b[0m                                 Traceback (most recent call last)",
      "\u001b[1;32m~\\AppData\\Local\\Temp\\ipykernel_13424\\2762945498.py\u001b[0m in \u001b[0;36m<module>\u001b[1;34m\u001b[0m\n\u001b[1;32m----> 1\u001b[1;33m \u001b[0mno_arguments_function\u001b[0m\u001b[1;33m(\u001b[0m\u001b[1;33m)\u001b[0m\u001b[1;33m\u001b[0m\u001b[1;33m\u001b[0m\u001b[0m\n\u001b[0m",
      "\u001b[1;31mNameError\u001b[0m: name 'no_arguments_function' is not defined"
     ]
    }
   ],
   "source": [
    "no_arguments_function()"
   ]
  },
  {
   "cell_type": "code",
   "execution_count": 16,
   "id": "3294a8d6",
   "metadata": {},
   "outputs": [],
   "source": [
    "x = \"We're\"\n",
    "y = \"in\"\n",
    "z = \"class!\""
   ]
  },
  {
   "cell_type": "code",
   "execution_count": 17,
   "id": "06baa19d",
   "metadata": {},
   "outputs": [
    {
     "ename": "NameError",
     "evalue": "name 'Z' is not defined",
     "output_type": "error",
     "traceback": [
      "\u001b[1;31m---------------------------------------------------------------------------\u001b[0m",
      "\u001b[1;31mNameError\u001b[0m                                 Traceback (most recent call last)",
      "\u001b[1;32m~\\AppData\\Local\\Temp\\ipykernel_13424\\1449823107.py\u001b[0m in \u001b[0;36m<module>\u001b[1;34m\u001b[0m\n\u001b[1;32m----> 1\u001b[1;33m \u001b[0mprint\u001b[0m\u001b[1;33m(\u001b[0m\u001b[0mx\u001b[0m\u001b[1;33m+\u001b[0m\u001b[0my\u001b[0m\u001b[1;33m+\u001b[0m\u001b[0mZ\u001b[0m\u001b[1;33m)\u001b[0m\u001b[1;33m\u001b[0m\u001b[1;33m\u001b[0m\u001b[0m\n\u001b[0m",
      "\u001b[1;31mNameError\u001b[0m: name 'Z' is not defined"
     ]
    }
   ],
   "source": [
    "print(x+y+Z)"
   ]
  },
  {
   "cell_type": "code",
   "execution_count": null,
   "id": "858c25e0",
   "metadata": {},
   "outputs": [],
   "source": [
    "#Return\n",
    "#Return - Return statements end the function call\n",
    "          #Return statements are equivalent to the function call"
   ]
  },
  {
   "cell_type": "code",
   "execution_count": 26,
   "id": "4558d351",
   "metadata": {},
   "outputs": [],
   "source": [
    "def example_function(parameter_1, parameter_2):\n",
    "    print(\"Hello World!\")\n",
    "    return(parameter_1* parameter_2)\n",
    "    "
   ]
  },
  {
   "cell_type": "code",
   "execution_count": 27,
   "id": "44334f4e",
   "metadata": {},
   "outputs": [
    {
     "name": "stdout",
     "output_type": "stream",
     "text": [
      "Hello World!\n"
     ]
    },
    {
     "data": {
      "text/plain": [
       "25"
      ]
     },
     "execution_count": 27,
     "metadata": {},
     "output_type": "execute_result"
    }
   ],
   "source": [
    "example_function(5,5)"
   ]
  },
  {
   "cell_type": "code",
   "execution_count": 29,
   "id": "f9a02bfb",
   "metadata": {},
   "outputs": [
    {
     "name": "stdout",
     "output_type": "stream",
     "text": [
      "Hello World!\n"
     ]
    },
    {
     "data": {
      "text/plain": [
       "int"
      ]
     },
     "execution_count": 29,
     "metadata": {},
     "output_type": "execute_result"
    }
   ],
   "source": [
    "type(example_function(5, 5))"
   ]
  },
  {
   "cell_type": "code",
   "execution_count": null,
   "id": "18f95033",
   "metadata": {},
   "outputs": [],
   "source": []
  }
 ],
 "metadata": {
  "kernelspec": {
   "display_name": "Python 3 (ipykernel)",
   "language": "python",
   "name": "python3"
  },
  "language_info": {
   "codemirror_mode": {
    "name": "ipython",
    "version": 3
   },
   "file_extension": ".py",
   "mimetype": "text/x-python",
   "name": "python",
   "nbconvert_exporter": "python",
   "pygments_lexer": "ipython3",
   "version": "3.9.13"
  }
 },
 "nbformat": 4,
 "nbformat_minor": 5
}
